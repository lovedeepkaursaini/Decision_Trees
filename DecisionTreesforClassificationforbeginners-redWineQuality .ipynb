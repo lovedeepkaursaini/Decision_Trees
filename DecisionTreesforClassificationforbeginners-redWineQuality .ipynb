{
 "cells": [
  {
   "cell_type": "markdown",
   "metadata": {},
   "source": [
    "# Decision Trees for Classification\n",
    "\n",
    "(beginner's level)\n",
    "\n",
    "In this tutorial we give a beginner's introduction to the Decision Tree learning which is a supervised algorithm. The Decision Tree models are simple to understand, easy to interpret and convinient to deploy. Although they can be used for both classification and regression, examples in this discussion foucs on classification problems only.  \n",
    "\n",
    "Being a supervised learning algorithm, the model building in Decision Tree classification includes a training phase where it tries to learn the rules of distinction between classes using examples from the historic data. Each of the training examples consist of values corresponding to a set of descriptory variables called features and with a label that identifies its class.\n",
    "\n",
    "For long various tree like graphs have been used as decision support systems. A familiar example is how a physician would diagnose an illness based on a series of questions designed around symptoms. But in our current context, the term Decision Tree refers specifically to a Binary Tree data structure thats capable of learning from exposure to data. A modern name for this algorithm is CART which is an acronym for Classification And Regression Trees but we here stick to it's traditional name 'Decision Tree' abbreciated as DT in this tutorial. "
   ]
  },
  {
   "attachments": {},
   "cell_type": "markdown",
   "metadata": {},
   "source": [
    "## Representation and Learning\n",
    "\n",
    "As just said, The DT model is respresented as a binary tree. The binary tree is a succession of records called \"nodes\". Each node is linked to atmost two successor nodes referred to as its left and right children. \n",
    "- The first node at the origin of the tree has no parent and is called \"root node\" and the terminating nodes that do not have any successors are called \"leafs or terminal nodes\". \n",
    "- In a non-trivial tree, the root node is linked to each leaf through a series of \"intermediate nodes\". \n",
    "- The number of steps between root and the furthest leaf node is called the height of the tree.\n",
    "- Each non-leaf node in a DT represents a splitting condition based on a single feature variable. Based on how splitting condition evaluates for a data record on the node, the record gets to assigned to either of its children. - This process continues till the record trickles down to a leaf node - each of which is associated with a class label. \n",
    "\n",
    "![DTdemo.png](https://github.com/lovedeepkaursaini/Decision_Trees/blob/master/DTdemo.png)\n",
    "\n",
    "With this simple binary tree representation of trained model, making predictions for new unseen data is straight forward. The new data record would travel through the tree until it ends up on one of the leaf nodes; and the class label of the leaf node assigned as the final resulting label of the new record.  "
   ]
  },
  {
   "cell_type": "markdown",
   "metadata": {},
   "source": [
    "Now what makes the tree to decide the best 'splitting' and 'stopping' condition? \n",
    "\n",
    "### Split Criterion\n",
    "\n",
    "Finding a best split condition at any node involves identifying which feature to use as well as deciding the boundary of split. For each of the available input feature, all possible split points are evaluated using a cost function with an aim to minimize it. The popular strategies for defining cost function are based on the choices such that each split minimizes the impurity at the child nodes. Most common criteria to measure the quality of a split are:\n",
    "\n",
    "#### GINI Index\n",
    "\n",
    "The GINI index for a node measures the impurity. Its defined in a way that its value is minimum when all the records at the node belongs to same class and maximum when each record belongs to a distinct class resulting in 50-50 split of classes in a binary classification problem. In GINI driven DT algorithms, the split condition is chosen to ensure that overall impurity after the split is as less possible as than the impurity at parent node. \n",
    "- The calculation of GINI index is quite simple - subtract the sum of the squared probabilities of each class from one.  \n",
    "\n",
    "#### Information Gain\n",
    "\n",
    "The information gain is based on the decrease in entropy after a split on an attribute of training dataset. The Entropy at a node is a measure of randomness in its data. Constructing a decision tree is all about finding feature that returns the highest information gain (i.e., the most homogeneous branches).\n",
    "- It is calculated as multiplication of the probability of the class times the log of that class probability. \n",
    "\n",
    "\n",
    "### Stopping Criterion\n",
    "\n",
    "The DT learning needs to know when to stop splitting as it works its way down the tree with training data. \n",
    "- An obvious idea is to reject a split if number of data records at any of the children-node is less than some threshold. This way a particular branch would stop growing once this condition of minimum number of data records in terminal node is met.\n",
    "- Another idea is to pre-define the maximum depth of the tree i.e. the maximum number of nodes from the root node of the tree. Once this condition of maximum depth of the tree is met, further splitting into new nodes must stop.\n",
    "\n",
    "Without such stopping requirements, the tree might grow deep and complex, resulting into ovefit the training data (overfit problem - discussed later in this section)."
   ]
  },
  {
   "cell_type": "markdown",
   "metadata": {},
   "source": [
    "## A Working Example\n",
    "\n",
    "To understand how the DT sturuture is built let us consider a small and simple wine quality dataset. It can be found in the [wine quality data set from the UCI Machine Learning Repository](http://archive.ics.uci.edu/ml/machine-learning-databases/wine-quality/). This dataset is one of the most popular data sets to get started on machine learning, so you might know about it's details, and if not you need to know the description of features [here](http://archive.ics.uci.edu/ml/machine-learning-databases/wine-quality/winequality.names).\n",
    "We will consider white-wine dataset for our purpose, that has 12 variables. For the purpose of this tutorial, we don't need to go into details of all those features except for ** \"quality\": this is our target variable. Experts have graded the wine quality between 0 (very bad) and 10 (very excellent).** \n",
    "\n",
    "\n",
    "### A First Look at Data"
   ]
  },
  {
   "cell_type": "code",
   "execution_count": 1,
   "metadata": {
    "collapsed": true,
    "scrolled": true
   },
   "outputs": [],
   "source": [
    "#Load the Libraries\n",
    "import pandas as pd\n",
    "import numpy as np\n",
    "import matplotlib.pyplot as plt\n",
    "import seaborn as sns\n",
    "%matplotlib inline\n",
    "\n",
    "from sklearn.tree import DecisionTreeClassifier\n",
    "# get the data and create dataframe\n",
    "df = pd.read_csv('https://archive.ics.uci.edu/ml/machine-learning-databases/wine-quality/winequality-white.csv' , sep = ';')"
   ]
  },
  {
   "cell_type": "markdown",
   "metadata": {},
   "source": [
    "### Data Processing and Preparation\n",
    "Let's turn that ordinal class into an binary class. We will define a function named as \"Taste\" that will check if quality > 5 or not. And then we will apply that to the dataset based on the value of the \"quality\" feature. We want to build a classifier for good taste wine vs bad taste one. "
   ]
  },
  {
   "cell_type": "code",
   "execution_count": 2,
   "metadata": {},
   "outputs": [
    {
     "name": "stdout",
     "output_type": "stream",
     "text": [
      "6    2198\n",
      "5    1457\n",
      "7     880\n",
      "8     175\n",
      "4     163\n",
      "3      20\n",
      "9       5\n",
      "Name: quality, dtype: int64\n"
     ]
    }
   ],
   "source": [
    "print(df['quality'].value_counts())"
   ]
  },
  {
   "cell_type": "code",
   "execution_count": 3,
   "metadata": {},
   "outputs": [
    {
     "name": "stdout",
     "output_type": "stream",
     "text": [
      "0    3258\n",
      "1    1640\n",
      "Name: quality, dtype: int64\n"
     ]
    }
   ],
   "source": [
    "def Taste(quality):\n",
    "    if quality > 5:\n",
    "        return 0\n",
    "    else:\n",
    "        return 1\n",
    "\n",
    "df['quality'] = df['quality'].apply(Taste)\n",
    "print(df['quality'].value_counts())"
   ]
  },
  {
   "cell_type": "code",
   "execution_count": 4,
   "metadata": {},
   "outputs": [
    {
     "name": "stdout",
     "output_type": "stream",
     "text": [
      "Class as pie chart:\n"
     ]
    },
    {
     "data": {
      "text/plain": [
       "<matplotlib.text.Text at 0x7f5744bb0198>"
      ]
     },
     "execution_count": 4,
     "metadata": {},
     "output_type": "execute_result"
    },
    {
     "data": {
      "image/png": "[encoded data removed]",
      "text/plain": [
       "<matplotlib.figure.Figure at 0x7f574c4079e8>"
      ]
     },
     "metadata": {},
     "output_type": "display_data"
    }
   ],
   "source": [
    "# Check Class variables that has 0 value for Genuine transactions and 1 for Fraud\n",
    "print(\"Class as pie chart:\")\n",
    "fig, ax = plt.subplots(1, 1)\n",
    "ax.pie(df[\"quality\"].value_counts(),autopct='%1.1f%%', labels=['tasty','yukky'], colors=['g','r'])\n",
    "plt.axis('equal')\n",
    "plt.ylabel('')"
   ]
  },
  {
   "cell_type": "markdown",
   "metadata": {},
   "source": [
    "### Train and Test split of dataset\n",
    "We will split our dataset into 70:30 ratio for training and testing of model. Let us import the \"train_test_split\" from \"sklearn.model_selection\" and assign the data and the target labels to the variables X and y."
   ]
  },
  {
   "cell_type": "code",
   "execution_count": 5,
   "metadata": {},
   "outputs": [],
   "source": [
    "from sklearn.model_selection import train_test_split\n",
    "X = df.drop('quality',axis=1)\n",
    "y = df['quality']\n",
    "X_train, X_test, y_train, y_test = train_test_split(X, y, test_size=0.30, random_state=101, stratify=y)"
   ]
  },
  {
   "cell_type": "markdown",
   "metadata": {},
   "source": [
    "### Using DT Classifier from scikit-learn\n",
    "\n",
    "Let us now create tree from training subset. We will use DT algorithm implementation in scikit-learn package that takes some important parameters like for splitting and stopping criteria as discussed above. \n",
    "\n",
    "In exercise below, we will use the default parameters but you can play with changing \"criterion\" that defines the function to measure the quality of the split. The [scikit-learn](http://scikit-learn.org/stable/modules/generated/sklearn.tree.DecisionTreeClassifier.html) package supports \"gini\" and \"entropy\" as two different split methods."
   ]
  },
  {
   "cell_type": "code",
   "execution_count": 6,
   "metadata": {},
   "outputs": [
    {
     "data": {
      "text/plain": [
       "DecisionTreeClassifier(class_weight=None, criterion='gini', max_depth=None,\n",
       "            max_features=None, max_leaf_nodes=None,\n",
       "            min_impurity_decrease=0.0, min_impurity_split=None,\n",
       "            min_samples_leaf=1, min_samples_split=2,\n",
       "            min_weight_fraction_leaf=0.0, presort=False, random_state=None,\n",
       "            splitter='best')"
      ]
     },
     "execution_count": 6,
     "metadata": {},
     "output_type": "execute_result"
    }
   ],
   "source": [
    "from sklearn.tree import DecisionTreeClassifier\n",
    "dtree = DecisionTreeClassifier() #create an instance of DecisionTreeClassifier() called dtree \n",
    "dtree.fit(X_train,y_train) #and fit it to the training data"
   ]
  },
  {
   "cell_type": "markdown",
   "metadata": {},
   "source": [
    "### Making Predictions\n",
    "\n",
    "We will use the trained model to predict the class label from the unseen test subset of data. In simple words, now the set of rules that our tree has learned, will now be traversed by the test data to check the quality of wine. "
   ]
  },
  {
   "cell_type": "code",
   "execution_count": 7,
   "metadata": {
    "collapsed": true
   },
   "outputs": [],
   "source": [
    "#Testing Phase: Test trained DT\n",
    "predictions_gini = dtree.predict(X_test)                          #Make predictions from \"gini\" based tree. "
   ]
  },
  {
   "cell_type": "markdown",
   "metadata": {},
   "source": [
    "### Evaluating the Model Performance\n",
    "Like everything else in life, machine learning algorithms too are not perfect and might make mistakes. In our current example the mistakes can fundamentally be of two types:\n",
    "\n",
    "1. Type 1 Error : The trained DT disqualify wine that is actually qualified i.e. has quality score >5 in original dataset.\n",
    "2. Type 2 Error : The trained DT qualifies wine that didn't actually qualify (quality < 5 in original dataset).\n",
    "\n",
    "Its obviously very important for a data scientist to be acutely aware of how often the prediction might be incorrect or in other words he/she should know how well the model performs. \n",
    "- Such an evaluation is done by using a DT to classify a test dataset with known values of target attribute. \n",
    "- Model performance can then be established using metrics like precision, recall, f1-score which are computed by comparing predicted values of target to the true ones. \n",
    "\n",
    "The choice of accuracy metric depends on the question you want to answer. for this tutorial, let us focus on model sensitivity or recall score. It will check how many of true bad quality wine samples are actually caught by the DT model. This could be an important answer for a winery if it want only the best of bested wine to supply in the market.\n",
    "\n",
    "Below we show how to use the scikit-learn for performance evaluation:"
   ]
  },
  {
   "cell_type": "code",
   "execution_count": 8,
   "metadata": {},
   "outputs": [
    {
     "name": "stdout",
     "output_type": "stream",
     "text": [
      "\n",
      " Classification Report\n",
      "             precision    recall  f1-score   support\n",
      "\n",
      "          0       0.83      0.86      0.85       978\n",
      "          1       0.70      0.65      0.68       492\n",
      "\n",
      "avg / total       0.79      0.79      0.79      1470\n",
      "\n",
      "Model sensitivity:  0.654471544715\n"
     ]
    }
   ],
   "source": [
    "from sklearn.metrics import classification_report, recall_score\n",
    "#Evaluation Phase\n",
    "report = classification_report(y_test,predictions_gini)     #Obtaining the clasfxn report\n",
    "print('\\n Classification Report')\n",
    "print(report)\n",
    "print ('Model sensitivity: ', recall_score(y_test,predictions_gini))"
   ]
  },
  {
   "cell_type": "markdown",
   "metadata": {},
   "source": [
    "** 65% of bad quality samples are detected by this DT model **\n",
    "\n",
    "But be careful this is very deep and complex tree with 1039 nodes. You can check the complexity of this tree with simple count on number of tree nodes or tree depth."
   ]
  },
  {
   "cell_type": "code",
   "execution_count": 9,
   "metadata": {},
   "outputs": [
    {
     "name": "stdout",
     "output_type": "stream",
     "text": [
      "number of nodes in trained tree:  1033\n"
     ]
    }
   ],
   "source": [
    "n_nodes = dtree.tree_.node_count\n",
    "print(\"number of nodes in trained tree: \", n_nodes)"
   ]
  },
  {
   "cell_type": "markdown",
   "metadata": {},
   "source": [
    "## Effect of  Statistical Noise\n",
    "\n",
    "Every dataset contains random noise on account of statistical fluctuations or irreducible error. A good model is the one that seeks to learn systematic mapping between the features and neglects the noise. \n",
    "\n",
    "### Overfitting\n",
    "A situation when model treats the statistical noise in training sample as a valid pattern is called Overfitting. It is a problem, training sample noise is unique to it and will adversely affect the model's performance on test samples since they have their own noise patterns. Algorithmically this happens when a learner tree continues to go deeper and deeper in splitting, building several branches just because of outliers and other irregularities in data. \n",
    "\n",
    "### Pruning\n",
    "The DT learning is notoriously prone to the problem of overfitting. There are several approaches that can help improve the performance by supressing the effects of overfitting. Each of these involve enforcing some simplicity measures called pruning to keep the tree from being far too deep and complex. \n",
    "In scikit-learn's DT module, there are a variety of methods used during tree growth to decide whether a node should be split or whether it should be declared a leaf node. We can use max_depth, min_samples_split, min_samples_leaf and so on. More options can be checked [here](http://scikit-learn.org/stable/modules/generated/sklearn.tree.DecisionTreeClassifier.html#sklearn.tree.DecisionTreeClassifier)\n",
    "\n",
    "\n",
    "** Let us try to restrict the tree complexity with pre-defining the tree depth as 1 **"
   ]
  },
  {
   "cell_type": "code",
   "execution_count": 10,
   "metadata": {},
   "outputs": [
    {
     "name": "stdout",
     "output_type": "stream",
     "text": [
      "\n",
      " Classification Report\n",
      "             precision    recall  f1-score   support\n",
      "\n",
      "          0       0.82      0.68      0.74       978\n",
      "          1       0.52      0.70      0.60       492\n",
      "\n",
      "avg / total       0.72      0.69      0.69      1470\n",
      "\n",
      "Model sensitivity:  0.701219512195\n",
      "number of nodes in trained tree:  3\n"
     ]
    }
   ],
   "source": [
    "from sklearn.metrics import classification_report, recall_score\n",
    "dtree_preP = DecisionTreeClassifier(max_depth=1)    #set maximum depth of tree to be 3.\n",
    "dtree_preP.fit(X_train,y_train)\n",
    "predictions_preP = dtree_preP.predict(X_test)\n",
    "report = classification_report(y_test,predictions_preP)     #Obtaining the clasfxn report\n",
    "print('\\n Classification Report')\n",
    "print(report)\n",
    "print ('Model sensitivity: ', recall_score(y_test,predictions_preP))\n",
    "n_nodes = dtree_preP.tree_.node_count\n",
    "print(\"number of nodes in trained tree: \", n_nodes)"
   ]
  },
  {
   "cell_type": "markdown",
   "metadata": {},
   "source": [
    "We can notice that with a this simple tree we have 5% gain in model sensitivity. Remember that we're interested in predicting a high fraction of bad quality wine. We usually try to tune the parameters of model such that we get a value as close to one as possible. You can try to play with other paramter setting to optimize the model and improve the sensitivity score.\n",
    "\n",
    "Let us try to plot the model sensitivity vs tree depth, to understand the concept of \"overfitting\". "
   ]
  },
  {
   "cell_type": "code",
   "execution_count": 11,
   "metadata": {},
   "outputs": [
    {
     "data": {
      "image/png": "[encoded data removed]",
      "text/plain": [
       "<matplotlib.figure.Figure at 0x7f5744ab2748>"
      ]
     },
     "metadata": {},
     "output_type": "display_data"
    }
   ],
   "source": [
    "depth_range = range(1, 20)\n",
    "trainAcc = []\n",
    "testAcc = []\n",
    "numNodes = []\n",
    "for k in depth_range:\n",
    "    dtree = DecisionTreeClassifier(max_depth=k)\n",
    "    dtree.fit(X_train,y_train)\n",
    "    y_pred_test = dtree.predict(X_test)\n",
    "    y_pred_train = dtree.predict(X_train)\n",
    "    testAcc.append(recall_score(y_test,y_pred_test))\n",
    "    trainAcc.append(recall_score(y_train,y_pred_train))\n",
    "    numNodes.append(float(dtree.tree_.node_count)*0.001)    #0.001 is there just to scale it down \n",
    "\n",
    "# Plot tree depth vs recall score\n",
    "plt.plot(depth_range, testAcc, marker='o', label = \"test recall\")\n",
    "plt.plot(depth_range, trainAcc, marker='o', label = \"train recall\")\n",
    "plt.plot(depth_range, numNodes, marker='o', label = \"Number of Nodes\")\n",
    "plt.xlabel('Tree depth')\n",
    "plt.ylabel('Recall')\n",
    "plt.xticks(depth_range)\n",
    "plt.legend()\n",
    "plt.show()"
   ]
  },
  {
   "cell_type": "markdown",
   "metadata": {},
   "source": [
    "You can notice in this plot that as you keep on increasing the model depth you increase the number of nodes (shown in green color) i.e. tree complexity. \n",
    "\n",
    "The sensitivity score for training sample is increasing with increase in tree depth but the test score is not following the same trend. This shows us that traing sample is picking up all noises from the train sample and is not able to generalize it's predictions on unseen test sample. So, it's better to keep the tree simple by restricting the tree depth to 1."
   ]
  },
  {
   "cell_type": "markdown",
   "metadata": {},
   "source": [
    "### Visualizing the Trained DT\n",
    "\n",
    "A great advantage with DT is how easily they could be visualized and interpretted. \n",
    "We can easily export the trained tree in Graphviz (a visulization software) format using the export_graphviz exporter and visulize the set of rules alongwith gini or entropy score and training records in each node.\n",
    "\n",
    "First we show the pruned tree as it is simple to understand:"
   ]
  },
  {
   "cell_type": "code",
   "execution_count": 12,
   "metadata": {},
   "outputs": [
    {
     "data": {
      "image/svg+xml": [
       "<?xml version=\"1.0\" encoding=\"UTF-8\" standalone=\"no\"?>\n",
       "<!DOCTYPE svg PUBLIC \"-//W3C//DTD SVG 1.1//EN\"\n",
       " \"http://www.w3.org/Graphics/SVG/1.1/DTD/svg11.dtd\">\n",
       "<!-- Generated by graphviz version 2.38.0 (20140413.2041)\n",
       " -->\n",
       "<!-- Title: Tree Pages: 1 -->\n",
       "<svg width=\"284pt\" height=\"195pt\"\n",
       " viewBox=\"0.00 0.00 283.50 195.00\" xmlns=\"http://www.w3.org/2000/svg\" xmlns:xlink=\"http://www.w3.org/1999/xlink\">\n",
       "<g id=\"graph0\" class=\"graph\" transform=\"scale(1 1) rotate(0) translate(4 191)\">\n",
       "<title>Tree</title>\n",
       "<polygon fill=\"white\" stroke=\"none\" points=\"-4,4 -4,-191 279.5,-191 279.5,4 -4,4\"/>\n",
       "<!-- 0 -->\n",
       "<g id=\"node1\" class=\"node\"><title>0</title>\n",
       "<path fill=\"#e58139\" fill-opacity=\"0.498039\" stroke=\"black\" d=\"M193.5,-187C193.5,-187 77.5,-187 77.5,-187 71.5,-187 65.5,-181 65.5,-175 65.5,-175 65.5,-116 65.5,-116 65.5,-110 71.5,-104 77.5,-104 77.5,-104 193.5,-104 193.5,-104 199.5,-104 205.5,-110 205.5,-116 205.5,-116 205.5,-175 205.5,-175 205.5,-181 199.5,-187 193.5,-187\"/>\n",
       "<text text-anchor=\"middle\" x=\"135.5\" y=\"-171.8\" font-family=\"Helvetica,sans-Serif\" font-size=\"14.00\">node #0</text>\n",
       "<text text-anchor=\"middle\" x=\"135.5\" y=\"-156.8\" font-family=\"Helvetica,sans-Serif\" font-size=\"14.00\">alcohol &lt;= 10.117</text>\n",
       "<text text-anchor=\"middle\" x=\"135.5\" y=\"-141.8\" font-family=\"Helvetica,sans-Serif\" font-size=\"14.00\">gini = 0.445</text>\n",
       "<text text-anchor=\"middle\" x=\"135.5\" y=\"-126.8\" font-family=\"Helvetica,sans-Serif\" font-size=\"14.00\">samples = 3428</text>\n",
       "<text text-anchor=\"middle\" x=\"135.5\" y=\"-111.8\" font-family=\"Helvetica,sans-Serif\" font-size=\"14.00\">value = [2280, 1148]</text>\n",
       "</g>\n",
       "<!-- 1 -->\n",
       "<g id=\"node2\" class=\"node\"><title>1</title>\n",
       "<path fill=\"#399de5\" fill-opacity=\"0.058824\" stroke=\"black\" d=\"M113,-68C113,-68 12,-68 12,-68 6,-68 7.10543e-15,-62 7.10543e-15,-56 7.10543e-15,-56 7.10543e-15,-12 7.10543e-15,-12 7.10543e-15,-6 6,-0 12,-0 12,-0 113,-0 113,-0 119,-0 125,-6 125,-12 125,-12 125,-56 125,-56 125,-62 119,-68 113,-68\"/>\n",
       "<text text-anchor=\"middle\" x=\"62.5\" y=\"-52.8\" font-family=\"Helvetica,sans-Serif\" font-size=\"14.00\">node #1</text>\n",
       "<text text-anchor=\"middle\" x=\"62.5\" y=\"-37.8\" font-family=\"Helvetica,sans-Serif\" font-size=\"14.00\">gini = 0.5</text>\n",
       "<text text-anchor=\"middle\" x=\"62.5\" y=\"-22.8\" font-family=\"Helvetica,sans-Serif\" font-size=\"14.00\">samples = 1540</text>\n",
       "<text text-anchor=\"middle\" x=\"62.5\" y=\"-7.8\" font-family=\"Helvetica,sans-Serif\" font-size=\"14.00\">value = [746, 794]</text>\n",
       "</g>\n",
       "<!-- 0&#45;&gt;1 -->\n",
       "<g id=\"edge1\" class=\"edge\"><title>0&#45;&gt;1</title>\n",
       "<path fill=\"none\" stroke=\"black\" d=\"M108.317,-103.726C102.419,-94.879 96.1734,-85.51 90.2535,-76.6303\"/>\n",
       "<polygon fill=\"black\" stroke=\"black\" points=\"93.159,-74.6787 84.6997,-68.2996 87.3346,-78.5616 93.159,-74.6787\"/>\n",
       "<text text-anchor=\"middle\" x=\"79.7968\" y=\"-89.1141\" font-family=\"Helvetica,sans-Serif\" font-size=\"14.00\">True</text>\n",
       "</g>\n",
       "<!-- 2 -->\n",
       "<g id=\"node3\" class=\"node\"><title>2</title>\n",
       "<path fill=\"#e58139\" fill-opacity=\"0.768627\" stroke=\"black\" d=\"M263.5,-68C263.5,-68 155.5,-68 155.5,-68 149.5,-68 143.5,-62 143.5,-56 143.5,-56 143.5,-12 143.5,-12 143.5,-6 149.5,-0 155.5,-0 155.5,-0 263.5,-0 263.5,-0 269.5,-0 275.5,-6 275.5,-12 275.5,-12 275.5,-56 275.5,-56 275.5,-62 269.5,-68 263.5,-68\"/>\n",
       "<text text-anchor=\"middle\" x=\"209.5\" y=\"-52.8\" font-family=\"Helvetica,sans-Serif\" font-size=\"14.00\">node #2</text>\n",
       "<text text-anchor=\"middle\" x=\"209.5\" y=\"-37.8\" font-family=\"Helvetica,sans-Serif\" font-size=\"14.00\">gini = 0.305</text>\n",
       "<text text-anchor=\"middle\" x=\"209.5\" y=\"-22.8\" font-family=\"Helvetica,sans-Serif\" font-size=\"14.00\">samples = 1888</text>\n",
       "<text text-anchor=\"middle\" x=\"209.5\" y=\"-7.8\" font-family=\"Helvetica,sans-Serif\" font-size=\"14.00\">value = [1534, 354]</text>\n",
       "</g>\n",
       "<!-- 0&#45;&gt;2 -->\n",
       "<g id=\"edge2\" class=\"edge\"><title>0&#45;&gt;2</title>\n",
       "<path fill=\"none\" stroke=\"black\" d=\"M163.055,-103.726C169.034,-94.879 175.365,-85.51 181.366,-76.6303\"/>\n",
       "<polygon fill=\"black\" stroke=\"black\" points=\"184.297,-78.5448 186.996,-68.2996 178.497,-74.6253 184.297,-78.5448\"/>\n",
       "<text text-anchor=\"middle\" x=\"191.745\" y=\"-89.1445\" font-family=\"Helvetica,sans-Serif\" font-size=\"14.00\">False</text>\n",
       "</g>\n",
       "</g>\n",
       "</svg>\n"
      ],
      "text/plain": [
       "<graphviz.files.Source at 0x7f5744aa9240>"
      ]
     },
     "execution_count": 12,
     "metadata": {},
     "output_type": "execute_result"
    }
   ],
   "source": [
    "import graphviz\n",
    "import pydot \n",
    "from sklearn.externals.six import StringIO  \n",
    "from sklearn.tree import export_graphviz\n",
    "dot_data = export_graphviz(dtree_preP, feature_names =X.columns[:], leaves_parallel = True,\n",
    "                           node_ids = True, filled=True, rounded=True,out_file=None, max_depth = 3)\n",
    "graphviz.Source(dot_data) "
   ]
  },
  {
   "cell_type": "markdown",
   "metadata": {},
   "source": [
    "As can be seen from above picture, root node (node-0) checks if alcohol content in white wine is less than or more than 10% and classifies the training subset that has 2280 bad and 1148 good quality wine samples. It ends with two child nodes which are not so pure given gini score in them. \n",
    "\n",
    "But note that our purpose here is just to get a data driven model that has a simple set of rules to predict the class for a new sample.\n",
    "\n",
    "Below let us visulize the unpruned complex tree that we trained before just for the purpose of getting a notion of how complex the tree was. Since this is more than 1000 nodes tree, while plotting we have restricted the depth to be 3. "
   ]
  },
  {
   "cell_type": "code",
   "execution_count": 13,
   "metadata": {},
   "outputs": [
    {
     "data": {
      "image/svg+xml": [
       "<?xml version=\"1.0\" encoding=\"UTF-8\" standalone=\"no\"?>\n",
       "<!DOCTYPE svg PUBLIC \"-//W3C//DTD SVG 1.1//EN\"\n",
       " \"http://www.w3.org/Graphics/SVG/1.1/DTD/svg11.dtd\">\n",
       "<!-- Generated by graphviz version 2.38.0 (20140413.2041)\n",
       " -->\n",
       "<!-- Title: Tree Pages: 1 -->\n",
       "<svg width=\"1229pt\" height=\"544pt\"\n",
       " viewBox=\"0.00 0.00 1228.50 543.50\" xmlns=\"http://www.w3.org/2000/svg\" xmlns:xlink=\"http://www.w3.org/1999/xlink\">\n",
       "<g id=\"graph0\" class=\"graph\" transform=\"scale(1 1) rotate(0) translate(4 539.5)\">\n",
       "<title>Tree</title>\n",
       "<polygon fill=\"white\" stroke=\"none\" points=\"-4,4 -4,-539.5 1224.5,-539.5 1224.5,4 -4,4\"/>\n",
       "<!-- 0 -->\n",
       "<g id=\"node1\" class=\"node\"><title>0</title>\n",
       "<path fill=\"#e58139\" fill-opacity=\"0.498039\" stroke=\"black\" d=\"M643.5,-535.5C643.5,-535.5 527.5,-535.5 527.5,-535.5 521.5,-535.5 515.5,-529.5 515.5,-523.5 515.5,-523.5 515.5,-464.5 515.5,-464.5 515.5,-458.5 521.5,-452.5 527.5,-452.5 527.5,-452.5 643.5,-452.5 643.5,-452.5 649.5,-452.5 655.5,-458.5 655.5,-464.5 655.5,-464.5 655.5,-523.5 655.5,-523.5 655.5,-529.5 649.5,-535.5 643.5,-535.5\"/>\n",
       "<text text-anchor=\"middle\" x=\"585.5\" y=\"-520.3\" font-family=\"Helvetica,sans-Serif\" font-size=\"14.00\">node #0</text>\n",
       "<text text-anchor=\"middle\" x=\"585.5\" y=\"-505.3\" font-family=\"Helvetica,sans-Serif\" font-size=\"14.00\">alcohol &lt;= 10.117</text>\n",
       "<text text-anchor=\"middle\" x=\"585.5\" y=\"-490.3\" font-family=\"Helvetica,sans-Serif\" font-size=\"14.00\">gini = 0.445</text>\n",
       "<text text-anchor=\"middle\" x=\"585.5\" y=\"-475.3\" font-family=\"Helvetica,sans-Serif\" font-size=\"14.00\">samples = 3428</text>\n",
       "<text text-anchor=\"middle\" x=\"585.5\" y=\"-460.3\" font-family=\"Helvetica,sans-Serif\" font-size=\"14.00\">value = [2280, 1148]</text>\n",
       "</g>\n",
       "<!-- 1 -->\n",
       "<g id=\"node2\" class=\"node\"><title>1</title>\n",
       "<path fill=\"#399de5\" fill-opacity=\"0.058824\" stroke=\"black\" d=\"M537.5,-416.5C537.5,-416.5 403.5,-416.5 403.5,-416.5 397.5,-416.5 391.5,-410.5 391.5,-404.5 391.5,-404.5 391.5,-345.5 391.5,-345.5 391.5,-339.5 397.5,-333.5 403.5,-333.5 403.5,-333.5 537.5,-333.5 537.5,-333.5 543.5,-333.5 549.5,-339.5 549.5,-345.5 549.5,-345.5 549.5,-404.5 549.5,-404.5 549.5,-410.5 543.5,-416.5 537.5,-416.5\"/>\n",
       "<text text-anchor=\"middle\" x=\"470.5\" y=\"-401.3\" font-family=\"Helvetica,sans-Serif\" font-size=\"14.00\">node #1</text>\n",
       "<text text-anchor=\"middle\" x=\"470.5\" y=\"-386.3\" font-family=\"Helvetica,sans-Serif\" font-size=\"14.00\">volatile acidity &lt;= 0.235</text>\n",
       "<text text-anchor=\"middle\" x=\"470.5\" y=\"-371.3\" font-family=\"Helvetica,sans-Serif\" font-size=\"14.00\">gini = 0.5</text>\n",
       "<text text-anchor=\"middle\" x=\"470.5\" y=\"-356.3\" font-family=\"Helvetica,sans-Serif\" font-size=\"14.00\">samples = 1540</text>\n",
       "<text text-anchor=\"middle\" x=\"470.5\" y=\"-341.3\" font-family=\"Helvetica,sans-Serif\" font-size=\"14.00\">value = [746, 794]</text>\n",
       "</g>\n",
       "<!-- 0&#45;&gt;1 -->\n",
       "<g id=\"edge1\" class=\"edge\"><title>0&#45;&gt;1</title>\n",
       "<path fill=\"none\" stroke=\"black\" d=\"M545.601,-452.407C536.503,-443.151 526.754,-433.232 517.393,-423.709\"/>\n",
       "<polygon fill=\"black\" stroke=\"black\" points=\"519.834,-421.199 510.328,-416.521 514.842,-426.106 519.834,-421.199\"/>\n",
       "<text text-anchor=\"middle\" x=\"510.113\" y=\"-437.82\" font-family=\"Helvetica,sans-Serif\" font-size=\"14.00\">True</text>\n",
       "</g>\n",
       "<!-- 552 -->\n",
       "<g id=\"node17\" class=\"node\"><title>552</title>\n",
       "<path fill=\"#e58139\" fill-opacity=\"0.768627\" stroke=\"black\" d=\"M776,-416.5C776,-416.5 627,-416.5 627,-416.5 621,-416.5 615,-410.5 615,-404.5 615,-404.5 615,-345.5 615,-345.5 615,-339.5 621,-333.5 627,-333.5 627,-333.5 776,-333.5 776,-333.5 782,-333.5 788,-339.5 788,-345.5 788,-345.5 788,-404.5 788,-404.5 788,-410.5 782,-416.5 776,-416.5\"/>\n",
       "<text text-anchor=\"middle\" x=\"701.5\" y=\"-401.3\" font-family=\"Helvetica,sans-Serif\" font-size=\"14.00\">node #552</text>\n",
       "<text text-anchor=\"middle\" x=\"701.5\" y=\"-386.3\" font-family=\"Helvetica,sans-Serif\" font-size=\"14.00\">free sulfur dioxide &lt;= 11.5</text>\n",
       "<text text-anchor=\"middle\" x=\"701.5\" y=\"-371.3\" font-family=\"Helvetica,sans-Serif\" font-size=\"14.00\">gini = 0.305</text>\n",
       "<text text-anchor=\"middle\" x=\"701.5\" y=\"-356.3\" font-family=\"Helvetica,sans-Serif\" font-size=\"14.00\">samples = 1888</text>\n",
       "<text text-anchor=\"middle\" x=\"701.5\" y=\"-341.3\" font-family=\"Helvetica,sans-Serif\" font-size=\"14.00\">value = [1534, 354]</text>\n",
       "</g>\n",
       "<!-- 0&#45;&gt;552 -->\n",
       "<g id=\"edge16\" class=\"edge\"><title>0&#45;&gt;552</title>\n",
       "<path fill=\"none\" stroke=\"black\" d=\"M625.746,-452.407C634.923,-443.151 644.757,-433.232 654.199,-423.709\"/>\n",
       "<polygon fill=\"black\" stroke=\"black\" points=\"656.77,-426.086 661.326,-416.521 651.799,-421.158 656.77,-426.086\"/>\n",
       "<text text-anchor=\"middle\" x=\"661.433\" y=\"-437.821\" font-family=\"Helvetica,sans-Serif\" font-size=\"14.00\">False</text>\n",
       "</g>\n",
       "<!-- 2 -->\n",
       "<g id=\"node3\" class=\"node\"><title>2</title>\n",
       "<path fill=\"#e58139\" fill-opacity=\"0.596078\" stroke=\"black\" d=\"M313.5,-297.5C313.5,-297.5 185.5,-297.5 185.5,-297.5 179.5,-297.5 173.5,-291.5 173.5,-285.5 173.5,-285.5 173.5,-226.5 173.5,-226.5 173.5,-220.5 179.5,-214.5 185.5,-214.5 185.5,-214.5 313.5,-214.5 313.5,-214.5 319.5,-214.5 325.5,-220.5 325.5,-226.5 325.5,-226.5 325.5,-285.5 325.5,-285.5 325.5,-291.5 319.5,-297.5 313.5,-297.5\"/>\n",
       "<text text-anchor=\"middle\" x=\"249.5\" y=\"-282.3\" font-family=\"Helvetica,sans-Serif\" font-size=\"14.00\">node #2</text>\n",
       "<text text-anchor=\"middle\" x=\"249.5\" y=\"-267.3\" font-family=\"Helvetica,sans-Serif\" font-size=\"14.00\">residual sugar &lt;= 6.45</text>\n",
       "<text text-anchor=\"middle\" x=\"249.5\" y=\"-252.3\" font-family=\"Helvetica,sans-Serif\" font-size=\"14.00\">gini = 0.409</text>\n",
       "<text text-anchor=\"middle\" x=\"249.5\" y=\"-237.3\" font-family=\"Helvetica,sans-Serif\" font-size=\"14.00\">samples = 502</text>\n",
       "<text text-anchor=\"middle\" x=\"249.5\" y=\"-222.3\" font-family=\"Helvetica,sans-Serif\" font-size=\"14.00\">value = [358, 144]</text>\n",
       "</g>\n",
       "<!-- 1&#45;&gt;2 -->\n",
       "<g id=\"edge2\" class=\"edge\"><title>1&#45;&gt;2</title>\n",
       "<path fill=\"none\" stroke=\"black\" d=\"M393.825,-333.407C374.69,-323.277 354.056,-312.353 334.543,-302.023\"/>\n",
       "<polygon fill=\"black\" stroke=\"black\" points=\"336.141,-298.909 325.666,-297.323 332.866,-305.095 336.141,-298.909\"/>\n",
       "</g>\n",
       "<!-- 173 -->\n",
       "<g id=\"node10\" class=\"node\"><title>173</title>\n",
       "<path fill=\"#399de5\" fill-opacity=\"0.403922\" stroke=\"black\" d=\"M537.5,-297.5C537.5,-297.5 403.5,-297.5 403.5,-297.5 397.5,-297.5 391.5,-291.5 391.5,-285.5 391.5,-285.5 391.5,-226.5 391.5,-226.5 391.5,-220.5 397.5,-214.5 403.5,-214.5 403.5,-214.5 537.5,-214.5 537.5,-214.5 543.5,-214.5 549.5,-220.5 549.5,-226.5 549.5,-226.5 549.5,-285.5 549.5,-285.5 549.5,-291.5 543.5,-297.5 537.5,-297.5\"/>\n",
       "<text text-anchor=\"middle\" x=\"470.5\" y=\"-282.3\" font-family=\"Helvetica,sans-Serif\" font-size=\"14.00\">node #173</text>\n",
       "<text text-anchor=\"middle\" x=\"470.5\" y=\"-267.3\" font-family=\"Helvetica,sans-Serif\" font-size=\"14.00\">volatile acidity &lt;= 0.305</text>\n",
       "<text text-anchor=\"middle\" x=\"470.5\" y=\"-252.3\" font-family=\"Helvetica,sans-Serif\" font-size=\"14.00\">gini = 0.468</text>\n",
       "<text text-anchor=\"middle\" x=\"470.5\" y=\"-237.3\" font-family=\"Helvetica,sans-Serif\" font-size=\"14.00\">samples = 1038</text>\n",
       "<text text-anchor=\"middle\" x=\"470.5\" y=\"-222.3\" font-family=\"Helvetica,sans-Serif\" font-size=\"14.00\">value = [388, 650]</text>\n",
       "</g>\n",
       "<!-- 1&#45;&gt;173 -->\n",
       "<g id=\"edge9\" class=\"edge\"><title>1&#45;&gt;173</title>\n",
       "<path fill=\"none\" stroke=\"black\" d=\"M470.5,-333.407C470.5,-325.149 470.5,-316.364 470.5,-307.802\"/>\n",
       "<polygon fill=\"black\" stroke=\"black\" points=\"474,-307.521 470.5,-297.521 467,-307.521 474,-307.521\"/>\n",
       "</g>\n",
       "<!-- 3 -->\n",
       "<g id=\"node4\" class=\"node\"><title>3</title>\n",
       "<path fill=\"#e58139\" fill-opacity=\"0.372549\" stroke=\"black\" d=\"M161,-178.5C161,-178.5 12,-178.5 12,-178.5 6,-178.5 0,-172.5 0,-166.5 0,-166.5 0,-107.5 0,-107.5 0,-101.5 6,-95.5 12,-95.5 12,-95.5 161,-95.5 161,-95.5 167,-95.5 173,-101.5 173,-107.5 173,-107.5 173,-166.5 173,-166.5 173,-172.5 167,-178.5 161,-178.5\"/>\n",
       "<text text-anchor=\"middle\" x=\"86.5\" y=\"-163.3\" font-family=\"Helvetica,sans-Serif\" font-size=\"14.00\">node #3</text>\n",
       "<text text-anchor=\"middle\" x=\"86.5\" y=\"-148.3\" font-family=\"Helvetica,sans-Serif\" font-size=\"14.00\">free sulfur dioxide &lt;= 25.5</text>\n",
       "<text text-anchor=\"middle\" x=\"86.5\" y=\"-133.3\" font-family=\"Helvetica,sans-Serif\" font-size=\"14.00\">gini = 0.474</text>\n",
       "<text text-anchor=\"middle\" x=\"86.5\" y=\"-118.3\" font-family=\"Helvetica,sans-Serif\" font-size=\"14.00\">samples = 192</text>\n",
       "<text text-anchor=\"middle\" x=\"86.5\" y=\"-103.3\" font-family=\"Helvetica,sans-Serif\" font-size=\"14.00\">value = [118, 74]</text>\n",
       "</g>\n",
       "<!-- 2&#45;&gt;3 -->\n",
       "<g id=\"edge3\" class=\"edge\"><title>2&#45;&gt;3</title>\n",
       "<path fill=\"none\" stroke=\"black\" d=\"M192.948,-214.407C179.546,-204.788 165.149,-194.453 151.408,-184.59\"/>\n",
       "<polygon fill=\"black\" stroke=\"black\" points=\"153.117,-181.509 142.952,-178.521 149.035,-187.195 153.117,-181.509\"/>\n",
       "</g>\n",
       "<!-- 92 -->\n",
       "<g id=\"node7\" class=\"node\"><title>92</title>\n",
       "<path fill=\"#e58139\" fill-opacity=\"0.709804\" stroke=\"black\" d=\"M296,-178.5C296,-178.5 203,-178.5 203,-178.5 197,-178.5 191,-172.5 191,-166.5 191,-166.5 191,-107.5 191,-107.5 191,-101.5 197,-95.5 203,-95.5 203,-95.5 296,-95.5 296,-95.5 302,-95.5 308,-101.5 308,-107.5 308,-107.5 308,-166.5 308,-166.5 308,-172.5 302,-178.5 296,-178.5\"/>\n",
       "<text text-anchor=\"middle\" x=\"249.5\" y=\"-163.3\" font-family=\"Helvetica,sans-Serif\" font-size=\"14.00\">node #92</text>\n",
       "<text text-anchor=\"middle\" x=\"249.5\" y=\"-148.3\" font-family=\"Helvetica,sans-Serif\" font-size=\"14.00\">pH &lt;= 3.205</text>\n",
       "<text text-anchor=\"middle\" x=\"249.5\" y=\"-133.3\" font-family=\"Helvetica,sans-Serif\" font-size=\"14.00\">gini = 0.35</text>\n",
       "<text text-anchor=\"middle\" x=\"249.5\" y=\"-118.3\" font-family=\"Helvetica,sans-Serif\" font-size=\"14.00\">samples = 310</text>\n",
       "<text text-anchor=\"middle\" x=\"249.5\" y=\"-103.3\" font-family=\"Helvetica,sans-Serif\" font-size=\"14.00\">value = [240, 70]</text>\n",
       "</g>\n",
       "<!-- 2&#45;&gt;92 -->\n",
       "<g id=\"edge6\" class=\"edge\"><title>2&#45;&gt;92</title>\n",
       "<path fill=\"none\" stroke=\"black\" d=\"M249.5,-214.407C249.5,-206.149 249.5,-197.364 249.5,-188.802\"/>\n",
       "<polygon fill=\"black\" stroke=\"black\" points=\"253,-188.521 249.5,-178.521 246,-188.521 253,-188.521\"/>\n",
       "</g>\n",
       "<!-- 4 -->\n",
       "<g id=\"node5\" class=\"node\"><title>4</title>\n",
       "<path fill=\"#c0c0c0\" stroke=\"black\" d=\"M88.5,-36C88.5,-36 58.5,-36 58.5,-36 52.5,-36 46.5,-30 46.5,-24 46.5,-24 46.5,-12 46.5,-12 46.5,-6 52.5,-0 58.5,-0 58.5,-0 88.5,-0 88.5,-0 94.5,-0 100.5,-6 100.5,-12 100.5,-12 100.5,-24 100.5,-24 100.5,-30 94.5,-36 88.5,-36\"/>\n",
       "<text text-anchor=\"middle\" x=\"73.5\" y=\"-14.3\" font-family=\"Helvetica,sans-Serif\" font-size=\"14.00\">(...)</text>\n",
       "</g>\n",
       "<!-- 3&#45;&gt;4 -->\n",
       "<g id=\"edge4\" class=\"edge\"><title>3&#45;&gt;4</title>\n",
       "<path fill=\"none\" stroke=\"black\" d=\"M81.9897,-95.4074C80.1898,-79.2084 78.1647,-60.9819 76.5438,-46.3943\"/>\n",
       "<polygon fill=\"black\" stroke=\"black\" points=\"79.9766,-45.5944 75.3936,-36.0421 73.0194,-46.3675 79.9766,-45.5944\"/>\n",
       "</g>\n",
       "<!-- 39 -->\n",
       "<g id=\"node6\" class=\"node\"><title>39</title>\n",
       "<path fill=\"#c0c0c0\" stroke=\"black\" d=\"M160.5,-36C160.5,-36 130.5,-36 130.5,-36 124.5,-36 118.5,-30 118.5,-24 118.5,-24 118.5,-12 118.5,-12 118.5,-6 124.5,-0 130.5,-0 130.5,-0 160.5,-0 160.5,-0 166.5,-0 172.5,-6 172.5,-12 172.5,-12 172.5,-24 172.5,-24 172.5,-30 166.5,-36 160.5,-36\"/>\n",
       "<text text-anchor=\"middle\" x=\"145.5\" y=\"-14.3\" font-family=\"Helvetica,sans-Serif\" font-size=\"14.00\">(...)</text>\n",
       "</g>\n",
       "<!-- 3&#45;&gt;39 -->\n",
       "<g id=\"edge5\" class=\"edge\"><title>3&#45;&gt;39</title>\n",
       "<path fill=\"none\" stroke=\"black\" d=\"M106.97,-95.4074C115.379,-78.7319 124.871,-59.908 132.33,-45.1167\"/>\n",
       "<polygon fill=\"black\" stroke=\"black\" points=\"135.529,-46.547 136.906,-36.0421 129.278,-43.3952 135.529,-46.547\"/>\n",
       "</g>\n",
       "<!-- 93 -->\n",
       "<g id=\"node8\" class=\"node\"><title>93</title>\n",
       "<path fill=\"#c0c0c0\" stroke=\"black\" d=\"M243.5,-36C243.5,-36 213.5,-36 213.5,-36 207.5,-36 201.5,-30 201.5,-24 201.5,-24 201.5,-12 201.5,-12 201.5,-6 207.5,-0 213.5,-0 213.5,-0 243.5,-0 243.5,-0 249.5,-0 255.5,-6 255.5,-12 255.5,-12 255.5,-24 255.5,-24 255.5,-30 249.5,-36 243.5,-36\"/>\n",
       "<text text-anchor=\"middle\" x=\"228.5\" y=\"-14.3\" font-family=\"Helvetica,sans-Serif\" font-size=\"14.00\">(...)</text>\n",
       "</g>\n",
       "<!-- 92&#45;&gt;93 -->\n",
       "<g id=\"edge7\" class=\"edge\"><title>92&#45;&gt;93</title>\n",
       "<path fill=\"none\" stroke=\"black\" d=\"M242.214,-95.4074C239.278,-79.0496 235.971,-60.6243 233.34,-45.9663\"/>\n",
       "<polygon fill=\"black\" stroke=\"black\" points=\"236.771,-45.2665 231.559,-36.0421 229.881,-46.5032 236.771,-45.2665\"/>\n",
       "</g>\n",
       "<!-- 136 -->\n",
       "<g id=\"node9\" class=\"node\"><title>136</title>\n",
       "<path fill=\"#c0c0c0\" stroke=\"black\" d=\"M315.5,-36C315.5,-36 285.5,-36 285.5,-36 279.5,-36 273.5,-30 273.5,-24 273.5,-24 273.5,-12 273.5,-12 273.5,-6 279.5,-0 285.5,-0 285.5,-0 315.5,-0 315.5,-0 321.5,-0 327.5,-6 327.5,-12 327.5,-12 327.5,-24 327.5,-24 327.5,-30 321.5,-36 315.5,-36\"/>\n",
       "<text text-anchor=\"middle\" x=\"300.5\" y=\"-14.3\" font-family=\"Helvetica,sans-Serif\" font-size=\"14.00\">(...)</text>\n",
       "</g>\n",
       "<!-- 92&#45;&gt;136 -->\n",
       "<g id=\"edge8\" class=\"edge\"><title>92&#45;&gt;136</title>\n",
       "<path fill=\"none\" stroke=\"black\" d=\"M267.194,-95.4074C274.394,-78.8907 282.512,-60.2664 288.931,-45.5404\"/>\n",
       "<polygon fill=\"black\" stroke=\"black\" points=\"292.284,-46.6077 293.071,-36.0421 285.867,-43.8105 292.284,-46.6077\"/>\n",
       "</g>\n",
       "<!-- 174 -->\n",
       "<g id=\"node11\" class=\"node\"><title>174</title>\n",
       "<path fill=\"#399de5\" fill-opacity=\"0.121569\" stroke=\"black\" d=\"M445,-178.5C445,-178.5 338,-178.5 338,-178.5 332,-178.5 326,-172.5 326,-166.5 326,-166.5 326,-107.5 326,-107.5 326,-101.5 332,-95.5 338,-95.5 338,-95.5 445,-95.5 445,-95.5 451,-95.5 457,-101.5 457,-107.5 457,-107.5 457,-166.5 457,-166.5 457,-172.5 451,-178.5 445,-178.5\"/>\n",
       "<text text-anchor=\"middle\" x=\"391.5\" y=\"-163.3\" font-family=\"Helvetica,sans-Serif\" font-size=\"14.00\">node #174</text>\n",
       "<text text-anchor=\"middle\" x=\"391.5\" y=\"-148.3\" font-family=\"Helvetica,sans-Serif\" font-size=\"14.00\">citric acid &lt;= 0.215</text>\n",
       "<text text-anchor=\"middle\" x=\"391.5\" y=\"-133.3\" font-family=\"Helvetica,sans-Serif\" font-size=\"14.00\">gini = 0.498</text>\n",
       "<text text-anchor=\"middle\" x=\"391.5\" y=\"-118.3\" font-family=\"Helvetica,sans-Serif\" font-size=\"14.00\">samples = 534</text>\n",
       "<text text-anchor=\"middle\" x=\"391.5\" y=\"-103.3\" font-family=\"Helvetica,sans-Serif\" font-size=\"14.00\">value = [250, 284]</text>\n",
       "</g>\n",
       "<!-- 173&#45;&gt;174 -->\n",
       "<g id=\"edge10\" class=\"edge\"><title>173&#45;&gt;174</title>\n",
       "<path fill=\"none\" stroke=\"black\" d=\"M443.091,-214.407C437.086,-205.514 430.669,-196.009 424.471,-186.831\"/>\n",
       "<polygon fill=\"black\" stroke=\"black\" points=\"427.357,-184.85 418.86,-178.521 421.556,-188.767 427.357,-184.85\"/>\n",
       "</g>\n",
       "<!-- 373 -->\n",
       "<g id=\"node14\" class=\"node\"><title>373</title>\n",
       "<path fill=\"#399de5\" fill-opacity=\"0.623529\" stroke=\"black\" d=\"M588,-178.5C588,-178.5 487,-178.5 487,-178.5 481,-178.5 475,-172.5 475,-166.5 475,-166.5 475,-107.5 475,-107.5 475,-101.5 481,-95.5 487,-95.5 487,-95.5 588,-95.5 588,-95.5 594,-95.5 600,-101.5 600,-107.5 600,-107.5 600,-166.5 600,-166.5 600,-172.5 594,-178.5 588,-178.5\"/>\n",
       "<text text-anchor=\"middle\" x=\"537.5\" y=\"-163.3\" font-family=\"Helvetica,sans-Serif\" font-size=\"14.00\">node #373</text>\n",
       "<text text-anchor=\"middle\" x=\"537.5\" y=\"-148.3\" font-family=\"Helvetica,sans-Serif\" font-size=\"14.00\">pH &lt;= 3.245</text>\n",
       "<text text-anchor=\"middle\" x=\"537.5\" y=\"-133.3\" font-family=\"Helvetica,sans-Serif\" font-size=\"14.00\">gini = 0.398</text>\n",
       "<text text-anchor=\"middle\" x=\"537.5\" y=\"-118.3\" font-family=\"Helvetica,sans-Serif\" font-size=\"14.00\">samples = 504</text>\n",
       "<text text-anchor=\"middle\" x=\"537.5\" y=\"-103.3\" font-family=\"Helvetica,sans-Serif\" font-size=\"14.00\">value = [138, 366]</text>\n",
       "</g>\n",
       "<!-- 173&#45;&gt;373 -->\n",
       "<g id=\"edge13\" class=\"edge\"><title>173&#45;&gt;373</title>\n",
       "<path fill=\"none\" stroke=\"black\" d=\"M493.745,-214.407C498.734,-205.695 504.059,-196.397 509.215,-187.393\"/>\n",
       "<polygon fill=\"black\" stroke=\"black\" points=\"512.364,-188.938 514.296,-178.521 506.289,-185.459 512.364,-188.938\"/>\n",
       "</g>\n",
       "<!-- 175 -->\n",
       "<g id=\"node12\" class=\"node\"><title>175</title>\n",
       "<path fill=\"#c0c0c0\" stroke=\"black\" d=\"M392.5,-36C392.5,-36 362.5,-36 362.5,-36 356.5,-36 350.5,-30 350.5,-24 350.5,-24 350.5,-12 350.5,-12 350.5,-6 356.5,-0 362.5,-0 362.5,-0 392.5,-0 392.5,-0 398.5,-0 404.5,-6 404.5,-12 404.5,-12 404.5,-24 404.5,-24 404.5,-30 398.5,-36 392.5,-36\"/>\n",
       "<text text-anchor=\"middle\" x=\"377.5\" y=\"-14.3\" font-family=\"Helvetica,sans-Serif\" font-size=\"14.00\">(...)</text>\n",
       "</g>\n",
       "<!-- 174&#45;&gt;175 -->\n",
       "<g id=\"edge11\" class=\"edge\"><title>174&#45;&gt;175</title>\n",
       "<path fill=\"none\" stroke=\"black\" d=\"M386.643,-95.4074C384.704,-79.2084 382.523,-60.9819 380.778,-46.3943\"/>\n",
       "<polygon fill=\"black\" stroke=\"black\" points=\"384.203,-45.5554 379.539,-36.0421 377.252,-46.3872 384.203,-45.5554\"/>\n",
       "</g>\n",
       "<!-- 190 -->\n",
       "<g id=\"node13\" class=\"node\"><title>190</title>\n",
       "<path fill=\"#c0c0c0\" stroke=\"black\" d=\"M464.5,-36C464.5,-36 434.5,-36 434.5,-36 428.5,-36 422.5,-30 422.5,-24 422.5,-24 422.5,-12 422.5,-12 422.5,-6 428.5,-0 434.5,-0 434.5,-0 464.5,-0 464.5,-0 470.5,-0 476.5,-6 476.5,-12 476.5,-12 476.5,-24 476.5,-24 476.5,-30 470.5,-36 464.5,-36\"/>\n",
       "<text text-anchor=\"middle\" x=\"449.5\" y=\"-14.3\" font-family=\"Helvetica,sans-Serif\" font-size=\"14.00\">(...)</text>\n",
       "</g>\n",
       "<!-- 174&#45;&gt;190 -->\n",
       "<g id=\"edge12\" class=\"edge\"><title>174&#45;&gt;190</title>\n",
       "<path fill=\"none\" stroke=\"black\" d=\"M411.623,-95.4074C419.889,-78.7319 429.221,-59.908 436.553,-45.1167\"/>\n",
       "<polygon fill=\"black\" stroke=\"black\" points=\"439.746,-46.5562 441.052,-36.0421 433.474,-43.4471 439.746,-46.5562\"/>\n",
       "</g>\n",
       "<!-- 374 -->\n",
       "<g id=\"node15\" class=\"node\"><title>374</title>\n",
       "<path fill=\"#c0c0c0\" stroke=\"black\" d=\"M539.5,-36C539.5,-36 509.5,-36 509.5,-36 503.5,-36 497.5,-30 497.5,-24 497.5,-24 497.5,-12 497.5,-12 497.5,-6 503.5,-0 509.5,-0 509.5,-0 539.5,-0 539.5,-0 545.5,-0 551.5,-6 551.5,-12 551.5,-12 551.5,-24 551.5,-24 551.5,-30 545.5,-36 539.5,-36\"/>\n",
       "<text text-anchor=\"middle\" x=\"524.5\" y=\"-14.3\" font-family=\"Helvetica,sans-Serif\" font-size=\"14.00\">(...)</text>\n",
       "</g>\n",
       "<!-- 373&#45;&gt;374 -->\n",
       "<g id=\"edge14\" class=\"edge\"><title>373&#45;&gt;374</title>\n",
       "<path fill=\"none\" stroke=\"black\" d=\"M532.99,-95.4074C531.19,-79.2084 529.165,-60.9819 527.544,-46.3943\"/>\n",
       "<polygon fill=\"black\" stroke=\"black\" points=\"530.977,-45.5944 526.394,-36.0421 524.019,-46.3675 530.977,-45.5944\"/>\n",
       "</g>\n",
       "<!-- 509 -->\n",
       "<g id=\"node16\" class=\"node\"><title>509</title>\n",
       "<path fill=\"#c0c0c0\" stroke=\"black\" d=\"M611.5,-36C611.5,-36 581.5,-36 581.5,-36 575.5,-36 569.5,-30 569.5,-24 569.5,-24 569.5,-12 569.5,-12 569.5,-6 575.5,-0 581.5,-0 581.5,-0 611.5,-0 611.5,-0 617.5,-0 623.5,-6 623.5,-12 623.5,-12 623.5,-24 623.5,-24 623.5,-30 617.5,-36 611.5,-36\"/>\n",
       "<text text-anchor=\"middle\" x=\"596.5\" y=\"-14.3\" font-family=\"Helvetica,sans-Serif\" font-size=\"14.00\">(...)</text>\n",
       "</g>\n",
       "<!-- 373&#45;&gt;509 -->\n",
       "<g id=\"edge15\" class=\"edge\"><title>373&#45;&gt;509</title>\n",
       "<path fill=\"none\" stroke=\"black\" d=\"M557.97,-95.4074C566.379,-78.7319 575.871,-59.908 583.33,-45.1167\"/>\n",
       "<polygon fill=\"black\" stroke=\"black\" points=\"586.529,-46.547 587.906,-36.0421 580.278,-43.3952 586.529,-46.547\"/>\n",
       "</g>\n",
       "<!-- 553 -->\n",
       "<g id=\"node18\" class=\"node\"><title>553</title>\n",
       "<path fill=\"#399de5\" fill-opacity=\"0.180392\" stroke=\"black\" d=\"M748,-297.5C748,-297.5 655,-297.5 655,-297.5 649,-297.5 643,-291.5 643,-285.5 643,-285.5 643,-226.5 643,-226.5 643,-220.5 649,-214.5 655,-214.5 655,-214.5 748,-214.5 748,-214.5 754,-214.5 760,-220.5 760,-226.5 760,-226.5 760,-285.5 760,-285.5 760,-291.5 754,-297.5 748,-297.5\"/>\n",
       "<text text-anchor=\"middle\" x=\"701.5\" y=\"-282.3\" font-family=\"Helvetica,sans-Serif\" font-size=\"14.00\">node #553</text>\n",
       "<text text-anchor=\"middle\" x=\"701.5\" y=\"-267.3\" font-family=\"Helvetica,sans-Serif\" font-size=\"14.00\">alcohol &lt;= 11.85</text>\n",
       "<text text-anchor=\"middle\" x=\"701.5\" y=\"-252.3\" font-family=\"Helvetica,sans-Serif\" font-size=\"14.00\">gini = 0.495</text>\n",
       "<text text-anchor=\"middle\" x=\"701.5\" y=\"-237.3\" font-family=\"Helvetica,sans-Serif\" font-size=\"14.00\">samples = 120</text>\n",
       "<text text-anchor=\"middle\" x=\"701.5\" y=\"-222.3\" font-family=\"Helvetica,sans-Serif\" font-size=\"14.00\">value = [54, 66]</text>\n",
       "</g>\n",
       "<!-- 552&#45;&gt;553 -->\n",
       "<g id=\"edge17\" class=\"edge\"><title>552&#45;&gt;553</title>\n",
       "<path fill=\"none\" stroke=\"black\" d=\"M701.5,-333.407C701.5,-325.149 701.5,-316.364 701.5,-307.802\"/>\n",
       "<polygon fill=\"black\" stroke=\"black\" points=\"705,-307.521 701.5,-297.521 698,-307.521 705,-307.521\"/>\n",
       "</g>\n",
       "<!-- 598 -->\n",
       "<g id=\"node25\" class=\"node\"><title>598</title>\n",
       "<path fill=\"#e58139\" fill-opacity=\"0.803922\" stroke=\"black\" d=\"M1017.5,-297.5C1017.5,-297.5 909.5,-297.5 909.5,-297.5 903.5,-297.5 897.5,-291.5 897.5,-285.5 897.5,-285.5 897.5,-226.5 897.5,-226.5 897.5,-220.5 903.5,-214.5 909.5,-214.5 909.5,-214.5 1017.5,-214.5 1017.5,-214.5 1023.5,-214.5 1029.5,-220.5 1029.5,-226.5 1029.5,-226.5 1029.5,-285.5 1029.5,-285.5 1029.5,-291.5 1023.5,-297.5 1017.5,-297.5\"/>\n",
       "<text text-anchor=\"middle\" x=\"963.5\" y=\"-282.3\" font-family=\"Helvetica,sans-Serif\" font-size=\"14.00\">node #598</text>\n",
       "<text text-anchor=\"middle\" x=\"963.5\" y=\"-267.3\" font-family=\"Helvetica,sans-Serif\" font-size=\"14.00\">alcohol &lt;= 10.99</text>\n",
       "<text text-anchor=\"middle\" x=\"963.5\" y=\"-252.3\" font-family=\"Helvetica,sans-Serif\" font-size=\"14.00\">gini = 0.273</text>\n",
       "<text text-anchor=\"middle\" x=\"963.5\" y=\"-237.3\" font-family=\"Helvetica,sans-Serif\" font-size=\"14.00\">samples = 1768</text>\n",
       "<text text-anchor=\"middle\" x=\"963.5\" y=\"-222.3\" font-family=\"Helvetica,sans-Serif\" font-size=\"14.00\">value = [1480, 288]</text>\n",
       "</g>\n",
       "<!-- 552&#45;&gt;598 -->\n",
       "<g id=\"edge24\" class=\"edge\"><title>552&#45;&gt;598</title>\n",
       "<path fill=\"none\" stroke=\"black\" d=\"M788.015,-335.366C820.299,-320.949 856.673,-304.705 887.899,-290.761\"/>\n",
       "<polygon fill=\"black\" stroke=\"black\" points=\"889.71,-293.785 897.414,-286.512 886.856,-287.393 889.71,-293.785\"/>\n",
       "</g>\n",
       "<!-- 554 -->\n",
       "<g id=\"node19\" class=\"node\"><title>554</title>\n",
       "<path fill=\"#399de5\" fill-opacity=\"0.552941\" stroke=\"black\" d=\"M734.5,-178.5C734.5,-178.5 630.5,-178.5 630.5,-178.5 624.5,-178.5 618.5,-172.5 618.5,-166.5 618.5,-166.5 618.5,-107.5 618.5,-107.5 618.5,-101.5 624.5,-95.5 630.5,-95.5 630.5,-95.5 734.5,-95.5 734.5,-95.5 740.5,-95.5 746.5,-101.5 746.5,-107.5 746.5,-107.5 746.5,-166.5 746.5,-166.5 746.5,-172.5 740.5,-178.5 734.5,-178.5\"/>\n",
       "<text text-anchor=\"middle\" x=\"682.5\" y=\"-163.3\" font-family=\"Helvetica,sans-Serif\" font-size=\"14.00\">node #554</text>\n",
       "<text text-anchor=\"middle\" x=\"682.5\" y=\"-148.3\" font-family=\"Helvetica,sans-Serif\" font-size=\"14.00\">chlorides &lt;= 0.049</text>\n",
       "<text text-anchor=\"middle\" x=\"682.5\" y=\"-133.3\" font-family=\"Helvetica,sans-Serif\" font-size=\"14.00\">gini = 0.427</text>\n",
       "<text text-anchor=\"middle\" x=\"682.5\" y=\"-118.3\" font-family=\"Helvetica,sans-Serif\" font-size=\"14.00\">samples = 84</text>\n",
       "<text text-anchor=\"middle\" x=\"682.5\" y=\"-103.3\" font-family=\"Helvetica,sans-Serif\" font-size=\"14.00\">value = [26, 58]</text>\n",
       "</g>\n",
       "<!-- 553&#45;&gt;554 -->\n",
       "<g id=\"edge18\" class=\"edge\"><title>553&#45;&gt;554</title>\n",
       "<path fill=\"none\" stroke=\"black\" d=\"M694.908,-214.407C693.552,-206.058 692.109,-197.171 690.704,-188.52\"/>\n",
       "<polygon fill=\"black\" stroke=\"black\" points=\"694.138,-187.83 689.08,-178.521 687.229,-188.953 694.138,-187.83\"/>\n",
       "</g>\n",
       "<!-- 583 -->\n",
       "<g id=\"node22\" class=\"node\"><title>583</title>\n",
       "<path fill=\"#e58139\" fill-opacity=\"0.713725\" stroke=\"black\" d=\"M854.5,-178.5C854.5,-178.5 776.5,-178.5 776.5,-178.5 770.5,-178.5 764.5,-172.5 764.5,-166.5 764.5,-166.5 764.5,-107.5 764.5,-107.5 764.5,-101.5 770.5,-95.5 776.5,-95.5 776.5,-95.5 854.5,-95.5 854.5,-95.5 860.5,-95.5 866.5,-101.5 866.5,-107.5 866.5,-107.5 866.5,-166.5 866.5,-166.5 866.5,-172.5 860.5,-178.5 854.5,-178.5\"/>\n",
       "<text text-anchor=\"middle\" x=\"815.5\" y=\"-163.3\" font-family=\"Helvetica,sans-Serif\" font-size=\"14.00\">node #583</text>\n",
       "<text text-anchor=\"middle\" x=\"815.5\" y=\"-148.3\" font-family=\"Helvetica,sans-Serif\" font-size=\"14.00\">pH &lt;= 3.295</text>\n",
       "<text text-anchor=\"middle\" x=\"815.5\" y=\"-133.3\" font-family=\"Helvetica,sans-Serif\" font-size=\"14.00\">gini = 0.346</text>\n",
       "<text text-anchor=\"middle\" x=\"815.5\" y=\"-118.3\" font-family=\"Helvetica,sans-Serif\" font-size=\"14.00\">samples = 36</text>\n",
       "<text text-anchor=\"middle\" x=\"815.5\" y=\"-103.3\" font-family=\"Helvetica,sans-Serif\" font-size=\"14.00\">value = [28, 8]</text>\n",
       "</g>\n",
       "<!-- 553&#45;&gt;583 -->\n",
       "<g id=\"edge21\" class=\"edge\"><title>553&#45;&gt;583</title>\n",
       "<path fill=\"none\" stroke=\"black\" d=\"M741.052,-214.407C750.071,-205.151 759.735,-195.232 769.014,-185.709\"/>\n",
       "<polygon fill=\"black\" stroke=\"black\" points=\"771.546,-188.126 776.018,-178.521 766.533,-183.241 771.546,-188.126\"/>\n",
       "</g>\n",
       "<!-- 555 -->\n",
       "<g id=\"node20\" class=\"node\"><title>555</title>\n",
       "<path fill=\"#c0c0c0\" stroke=\"black\" d=\"M684.5,-36C684.5,-36 654.5,-36 654.5,-36 648.5,-36 642.5,-30 642.5,-24 642.5,-24 642.5,-12 642.5,-12 642.5,-6 648.5,-0 654.5,-0 654.5,-0 684.5,-0 684.5,-0 690.5,-0 696.5,-6 696.5,-12 696.5,-12 696.5,-24 696.5,-24 696.5,-30 690.5,-36 684.5,-36\"/>\n",
       "<text text-anchor=\"middle\" x=\"669.5\" y=\"-14.3\" font-family=\"Helvetica,sans-Serif\" font-size=\"14.00\">(...)</text>\n",
       "</g>\n",
       "<!-- 554&#45;&gt;555 -->\n",
       "<g id=\"edge19\" class=\"edge\"><title>554&#45;&gt;555</title>\n",
       "<path fill=\"none\" stroke=\"black\" d=\"M677.99,-95.4074C676.19,-79.2084 674.165,-60.9819 672.544,-46.3943\"/>\n",
       "<polygon fill=\"black\" stroke=\"black\" points=\"675.977,-45.5944 671.394,-36.0421 669.019,-46.3675 675.977,-45.5944\"/>\n",
       "</g>\n",
       "<!-- 576 -->\n",
       "<g id=\"node21\" class=\"node\"><title>576</title>\n",
       "<path fill=\"#c0c0c0\" stroke=\"black\" d=\"M756.5,-36C756.5,-36 726.5,-36 726.5,-36 720.5,-36 714.5,-30 714.5,-24 714.5,-24 714.5,-12 714.5,-12 714.5,-6 720.5,-0 726.5,-0 726.5,-0 756.5,-0 756.5,-0 762.5,-0 768.5,-6 768.5,-12 768.5,-12 768.5,-24 768.5,-24 768.5,-30 762.5,-36 756.5,-36\"/>\n",
       "<text text-anchor=\"middle\" x=\"741.5\" y=\"-14.3\" font-family=\"Helvetica,sans-Serif\" font-size=\"14.00\">(...)</text>\n",
       "</g>\n",
       "<!-- 554&#45;&gt;576 -->\n",
       "<g id=\"edge20\" class=\"edge\"><title>554&#45;&gt;576</title>\n",
       "<path fill=\"none\" stroke=\"black\" d=\"M702.97,-95.4074C711.379,-78.7319 720.871,-59.908 728.33,-45.1167\"/>\n",
       "<polygon fill=\"black\" stroke=\"black\" points=\"731.529,-46.547 732.906,-36.0421 725.278,-43.3952 731.529,-46.547\"/>\n",
       "</g>\n",
       "<!-- 584 -->\n",
       "<g id=\"node23\" class=\"node\"><title>584</title>\n",
       "<path fill=\"#c0c0c0\" stroke=\"black\" d=\"M829.5,-36C829.5,-36 799.5,-36 799.5,-36 793.5,-36 787.5,-30 787.5,-24 787.5,-24 787.5,-12 787.5,-12 787.5,-6 793.5,-0 799.5,-0 799.5,-0 829.5,-0 829.5,-0 835.5,-0 841.5,-6 841.5,-12 841.5,-12 841.5,-24 841.5,-24 841.5,-30 835.5,-36 829.5,-36\"/>\n",
       "<text text-anchor=\"middle\" x=\"814.5\" y=\"-14.3\" font-family=\"Helvetica,sans-Serif\" font-size=\"14.00\">(...)</text>\n",
       "</g>\n",
       "<!-- 583&#45;&gt;584 -->\n",
       "<g id=\"edge22\" class=\"edge\"><title>583&#45;&gt;584</title>\n",
       "<path fill=\"none\" stroke=\"black\" d=\"M815.153,-95.4074C815.015,-79.2084 814.859,-60.9819 814.734,-46.3943\"/>\n",
       "<polygon fill=\"black\" stroke=\"black\" points=\"818.231,-46.0118 814.646,-36.0421 811.231,-46.0717 818.231,-46.0118\"/>\n",
       "</g>\n",
       "<!-- 593 -->\n",
       "<g id=\"node24\" class=\"node\"><title>593</title>\n",
       "<path fill=\"#c0c0c0\" stroke=\"black\" d=\"M901.5,-36C901.5,-36 871.5,-36 871.5,-36 865.5,-36 859.5,-30 859.5,-24 859.5,-24 859.5,-12 859.5,-12 859.5,-6 865.5,-0 871.5,-0 871.5,-0 901.5,-0 901.5,-0 907.5,-0 913.5,-6 913.5,-12 913.5,-12 913.5,-24 913.5,-24 913.5,-30 907.5,-36 901.5,-36\"/>\n",
       "<text text-anchor=\"middle\" x=\"886.5\" y=\"-14.3\" font-family=\"Helvetica,sans-Serif\" font-size=\"14.00\">(...)</text>\n",
       "</g>\n",
       "<!-- 583&#45;&gt;593 -->\n",
       "<g id=\"edge23\" class=\"edge\"><title>583&#45;&gt;593</title>\n",
       "<path fill=\"none\" stroke=\"black\" d=\"M840.133,-95.4074C850.349,-78.5731 861.893,-59.5493 870.907,-44.6952\"/>\n",
       "<polygon fill=\"black\" stroke=\"black\" points=\"873.962,-46.407 876.158,-36.0421 867.978,-42.7754 873.962,-46.407\"/>\n",
       "</g>\n",
       "<!-- 599 -->\n",
       "<g id=\"node26\" class=\"node\"><title>599</title>\n",
       "<path fill=\"#e58139\" fill-opacity=\"0.603922\" stroke=\"black\" d=\"M1030.5,-178.5C1030.5,-178.5 896.5,-178.5 896.5,-178.5 890.5,-178.5 884.5,-172.5 884.5,-166.5 884.5,-166.5 884.5,-107.5 884.5,-107.5 884.5,-101.5 890.5,-95.5 896.5,-95.5 896.5,-95.5 1030.5,-95.5 1030.5,-95.5 1036.5,-95.5 1042.5,-101.5 1042.5,-107.5 1042.5,-107.5 1042.5,-166.5 1042.5,-166.5 1042.5,-172.5 1036.5,-178.5 1030.5,-178.5\"/>\n",
       "<text text-anchor=\"middle\" x=\"963.5\" y=\"-163.3\" font-family=\"Helvetica,sans-Serif\" font-size=\"14.00\">node #599</text>\n",
       "<text text-anchor=\"middle\" x=\"963.5\" y=\"-148.3\" font-family=\"Helvetica,sans-Serif\" font-size=\"14.00\">volatile acidity &lt;= 0.262</text>\n",
       "<text text-anchor=\"middle\" x=\"963.5\" y=\"-133.3\" font-family=\"Helvetica,sans-Serif\" font-size=\"14.00\">gini = 0.406</text>\n",
       "<text text-anchor=\"middle\" x=\"963.5\" y=\"-118.3\" font-family=\"Helvetica,sans-Serif\" font-size=\"14.00\">samples = 654</text>\n",
       "<text text-anchor=\"middle\" x=\"963.5\" y=\"-103.3\" font-family=\"Helvetica,sans-Serif\" font-size=\"14.00\">value = [469, 185]</text>\n",
       "</g>\n",
       "<!-- 598&#45;&gt;599 -->\n",
       "<g id=\"edge25\" class=\"edge\"><title>598&#45;&gt;599</title>\n",
       "<path fill=\"none\" stroke=\"black\" d=\"M963.5,-214.407C963.5,-206.149 963.5,-197.364 963.5,-188.802\"/>\n",
       "<polygon fill=\"black\" stroke=\"black\" points=\"967,-188.521 963.5,-178.521 960,-188.521 967,-188.521\"/>\n",
       "</g>\n",
       "<!-- 836 -->\n",
       "<g id=\"node29\" class=\"node\"><title>836</title>\n",
       "<path fill=\"#e58139\" fill-opacity=\"0.898039\" stroke=\"black\" d=\"M1207,-178.5C1207,-178.5 1072,-178.5 1072,-178.5 1066,-178.5 1060,-172.5 1060,-166.5 1060,-166.5 1060,-107.5 1060,-107.5 1060,-101.5 1066,-95.5 1072,-95.5 1072,-95.5 1207,-95.5 1207,-95.5 1213,-95.5 1219,-101.5 1219,-107.5 1219,-107.5 1219,-166.5 1219,-166.5 1219,-172.5 1213,-178.5 1207,-178.5\"/>\n",
       "<text text-anchor=\"middle\" x=\"1139.5\" y=\"-163.3\" font-family=\"Helvetica,sans-Serif\" font-size=\"14.00\">node #836</text>\n",
       "<text text-anchor=\"middle\" x=\"1139.5\" y=\"-148.3\" font-family=\"Helvetica,sans-Serif\" font-size=\"14.00\">residual sugar &lt;= 0.975</text>\n",
       "<text text-anchor=\"middle\" x=\"1139.5\" y=\"-133.3\" font-family=\"Helvetica,sans-Serif\" font-size=\"14.00\">gini = 0.168</text>\n",
       "<text text-anchor=\"middle\" x=\"1139.5\" y=\"-118.3\" font-family=\"Helvetica,sans-Serif\" font-size=\"14.00\">samples = 1114</text>\n",
       "<text text-anchor=\"middle\" x=\"1139.5\" y=\"-103.3\" font-family=\"Helvetica,sans-Serif\" font-size=\"14.00\">value = [1011, 103]</text>\n",
       "</g>\n",
       "<!-- 598&#45;&gt;836 -->\n",
       "<g id=\"edge28\" class=\"edge\"><title>598&#45;&gt;836</title>\n",
       "<path fill=\"none\" stroke=\"black\" d=\"M1024.56,-214.407C1039.17,-204.697 1054.87,-194.258 1069.84,-184.311\"/>\n",
       "<polygon fill=\"black\" stroke=\"black\" points=\"1072.16,-186.972 1078.55,-178.521 1068.28,-181.142 1072.16,-186.972\"/>\n",
       "</g>\n",
       "<!-- 600 -->\n",
       "<g id=\"node27\" class=\"node\"><title>600</title>\n",
       "<path fill=\"#c0c0c0\" stroke=\"black\" d=\"M975.5,-36C975.5,-36 945.5,-36 945.5,-36 939.5,-36 933.5,-30 933.5,-24 933.5,-24 933.5,-12 933.5,-12 933.5,-6 939.5,-0 945.5,-0 945.5,-0 975.5,-0 975.5,-0 981.5,-0 987.5,-6 987.5,-12 987.5,-12 987.5,-24 987.5,-24 987.5,-30 981.5,-36 975.5,-36\"/>\n",
       "<text text-anchor=\"middle\" x=\"960.5\" y=\"-14.3\" font-family=\"Helvetica,sans-Serif\" font-size=\"14.00\">(...)</text>\n",
       "</g>\n",
       "<!-- 599&#45;&gt;600 -->\n",
       "<g id=\"edge26\" class=\"edge\"><title>599&#45;&gt;600</title>\n",
       "<path fill=\"none\" stroke=\"black\" d=\"M962.459,-95.4074C962.044,-79.2084 961.576,-60.9819 961.202,-46.3943\"/>\n",
       "<polygon fill=\"black\" stroke=\"black\" points=\"964.692,-45.9491 960.937,-36.0421 957.695,-46.1286 964.692,-45.9491\"/>\n",
       "</g>\n",
       "<!-- 749 -->\n",
       "<g id=\"node28\" class=\"node\"><title>749</title>\n",
       "<path fill=\"#c0c0c0\" stroke=\"black\" d=\"M1047.5,-36C1047.5,-36 1017.5,-36 1017.5,-36 1011.5,-36 1005.5,-30 1005.5,-24 1005.5,-24 1005.5,-12 1005.5,-12 1005.5,-6 1011.5,-0 1017.5,-0 1017.5,-0 1047.5,-0 1047.5,-0 1053.5,-0 1059.5,-6 1059.5,-12 1059.5,-12 1059.5,-24 1059.5,-24 1059.5,-30 1053.5,-36 1047.5,-36\"/>\n",
       "<text text-anchor=\"middle\" x=\"1032.5\" y=\"-14.3\" font-family=\"Helvetica,sans-Serif\" font-size=\"14.00\">(...)</text>\n",
       "</g>\n",
       "<!-- 599&#45;&gt;749 -->\n",
       "<g id=\"edge27\" class=\"edge\"><title>599&#45;&gt;749</title>\n",
       "<path fill=\"none\" stroke=\"black\" d=\"M987.439,-95.4074C997.367,-78.5731 1008.59,-59.5493 1017.35,-44.6952\"/>\n",
       "<polygon fill=\"black\" stroke=\"black\" points=\"1020.38,-46.4338 1022.45,-36.0421 1014.35,-42.8778 1020.38,-46.4338\"/>\n",
       "</g>\n",
       "<!-- 837 -->\n",
       "<g id=\"node30\" class=\"node\"><title>837</title>\n",
       "<path fill=\"#c0c0c0\" stroke=\"black\" d=\"M1136.5,-36C1136.5,-36 1106.5,-36 1106.5,-36 1100.5,-36 1094.5,-30 1094.5,-24 1094.5,-24 1094.5,-12 1094.5,-12 1094.5,-6 1100.5,-0 1106.5,-0 1106.5,-0 1136.5,-0 1136.5,-0 1142.5,-0 1148.5,-6 1148.5,-12 1148.5,-12 1148.5,-24 1148.5,-24 1148.5,-30 1142.5,-36 1136.5,-36\"/>\n",
       "<text text-anchor=\"middle\" x=\"1121.5\" y=\"-14.3\" font-family=\"Helvetica,sans-Serif\" font-size=\"14.00\">(...)</text>\n",
       "</g>\n",
       "<!-- 836&#45;&gt;837 -->\n",
       "<g id=\"edge29\" class=\"edge\"><title>836&#45;&gt;837</title>\n",
       "<path fill=\"none\" stroke=\"black\" d=\"M1133.25,-95.4074C1130.74,-79.0496 1127.9,-60.6243 1125.65,-45.9663\"/>\n",
       "<polygon fill=\"black\" stroke=\"black\" points=\"1129.1,-45.3936 1124.12,-36.0421 1122.18,-46.4581 1129.1,-45.3936\"/>\n",
       "</g>\n",
       "<!-- 842 -->\n",
       "<g id=\"node31\" class=\"node\"><title>842</title>\n",
       "<path fill=\"#c0c0c0\" stroke=\"black\" d=\"M1208.5,-36C1208.5,-36 1178.5,-36 1178.5,-36 1172.5,-36 1166.5,-30 1166.5,-24 1166.5,-24 1166.5,-12 1166.5,-12 1166.5,-6 1172.5,-0 1178.5,-0 1178.5,-0 1208.5,-0 1208.5,-0 1214.5,-0 1220.5,-6 1220.5,-12 1220.5,-12 1220.5,-24 1220.5,-24 1220.5,-30 1214.5,-36 1208.5,-36\"/>\n",
       "<text text-anchor=\"middle\" x=\"1193.5\" y=\"-14.3\" font-family=\"Helvetica,sans-Serif\" font-size=\"14.00\">(...)</text>\n",
       "</g>\n",
       "<!-- 836&#45;&gt;842 -->\n",
       "<g id=\"edge30\" class=\"edge\"><title>836&#45;&gt;842</title>\n",
       "<path fill=\"none\" stroke=\"black\" d=\"M1158.24,-95.4074C1165.86,-78.8907 1174.45,-60.2664 1181.25,-45.5404\"/>\n",
       "<polygon fill=\"black\" stroke=\"black\" points=\"1184.62,-46.5885 1185.63,-36.0421 1178.27,-43.655 1184.62,-46.5885\"/>\n",
       "</g>\n",
       "</g>\n",
       "</svg>\n"
      ],
      "text/plain": [
       "<graphviz.files.Source at 0x7f5744afd828>"
      ]
     },
     "execution_count": 13,
     "metadata": {},
     "output_type": "execute_result"
    }
   ],
   "source": [
    "import graphviz\n",
    "import pydot \n",
    "from sklearn.externals.six import StringIO  \n",
    "from sklearn.tree import export_graphviz\n",
    "dot_data = export_graphviz(dtree, feature_names =X.columns[:], leaves_parallel = True,\n",
    "                           node_ids = True, filled=True, rounded=True,out_file=None, max_depth = 3)\n",
    "graphviz.Source(dot_data) "
   ]
  },
  {
   "cell_type": "markdown",
   "metadata": {},
   "source": [
    "## Advantages and Disadvantages \n",
    "\n",
    "We have seen that Decision Trees algorithms have several advantages. \n",
    "\n",
    "1. Decision Trees are easy to explain as they result in a set of simple decision rules.\n",
    "2. It follows the same approach as humans generally follow while making decisions.\n",
    "3. Interpretation of a Decision Tree model can be simplified by its visualizations.\n",
    "4. Unlike several other alogrithms DT can handle huge data sets with mixed predictors.\n",
    "5. Can easily ignore the redundant variables and help in selecting best features.\n",
    "6. Handle missing data elegantly.\n",
    "\n",
    "These are definitely huge positives especially while working in commerical environment where not all the stake holders are either interested or capable of understanding complex modeling approaches. But decision trees have some very prominent disadvantages too:\n",
    "\n",
    "Disadvantages:\n",
    "\n",
    "1. Very high probability of overfitting as noticed in above plots.\n",
    "2. Generally, DTs have lower prediction accuracy compared to other machine learning algorithms.\n",
    "3. Can be unstable because small variations in datasets can result in completely different trees, but ensemble of DTs can help here.\n",
    "4. Calculations can become complex when there are many class labels. \n",
    "   - You can try to check this with a simple change in above tutorial, just do not use the function \"Taste\".\n",
    "5. For imbalanced classes, DTs can be biased towards dominating classes. So, dataset should be balanced prior to train the DT model. \n",
    "   - You can check this by doing a simple change in Taste fucntion, set the quality for pure class to be more than 7 and redo the tutorial."
   ]
  },
  {
   "cell_type": "markdown",
   "metadata": {
    "collapsed": true
   },
   "source": [
    "## Enhancing Decision Trees\n",
    "\n",
    "The plain vanila DT learners are simple but often not very useful in real life situations. Several variations of DTs have been developed to overcome the disadvantages and achieve robust and powerful classification algorithms. This simple algorithm provides a base for several ensemble methods like bagging, random forests and boosting that we will discuss in separate tutorial."
   ]
  }
 ],
 "metadata": {
  "kernelspec": {
   "display_name": "Python 3",
   "language": "python",
   "name": "python3"
  },
  "language_info": {
   "codemirror_mode": {
    "name": "ipython",
    "version": 3
   },
   "file_extension": ".py",
   "mimetype": "text/x-python",
   "name": "python",
   "nbconvert_exporter": "python",
   "pygments_lexer": "ipython3",
   "version": "3.6.3"
  }
 },
 "nbformat": 4,
 "nbformat_minor": 1
}
