{
 "cells": [
  {
   "cell_type": "markdown",
   "metadata": {},
   "source": [
    "# Decision Trees for Classification\n",
    "\n",
    "(beginner's level)\n",
    "\n",
    "In this tutorial we give a beginner's introduction to the Decision Tree learning which is a supervised algorithm. The Decision Tree models are simple to understand, easy to interpret and convinient to deploy. Although they can be used for both classification and regression, examples in this discussion foucs on classification problems only.  \n",
    "\n",
    "Being a supervised learning algorithm, the model building in Decision Tree classification includes a training phase where it tries to learn the rules of distinction between classes using examples from the historic data. Each of the training examples consist of values corresponding to a set of descriptory variables called features and with a label that identifies its class.\n",
    "\n",
    "For long various tree like graphs have been used as decision support systems. A familiar example is how a physician would diagnose an illness based on a series of questions designed around symptoms. But in our current context, the term Decision Tree refers specifically to a Binary Tree data structure thats capable of learning from exposure to data. A modern name for this algorithm is CART which is an acronym for Classification And Regression Trees but we here stick to it's traditional name 'Decision Tree' abbreciated as DT in this tutorial. "
   ]
  },
  {
   "cell_type": "markdown",
   "metadata": {},
   "source": [
    "## Representation and Learning\n",
    "\n",
    "As just said, The DT model is respresented as a binary tree. The binary tree is a succession of records called \"nodes\". Each node is linked to atmost two successor nodes referred to as its left and right children. \n",
    "- The first node at the origin of the tree has no parent and is called \"root node\" and the terminating nodes that do not have any successors are called \"leafs or terminal nodes\". \n",
    "- In a non-trivial tree, the root node is linked to each leaf through a series of \"intermediate nodes\". \n",
    "- The number of steps between root and the furthest leaf node is called the height of the tree.\n",
    "- Each non-leaf node in a DT represents a splitting condition based on a single feature variable. Based on how splitting condition evaluates for a data record on the node, the record gets to assigned to either of its children. - This process continues till the record trickles down to a leaf node - each of which is associated with a class label. \n",
    "\n",
    "![DTdemo.png](DTdemo.png)\n",
    "\n",
    "With this simple binary tree representation of trained model, making predictions for new unseen data is straight forward. The new data record would travel through the tree until it ends up on one of the leaf nodes; and the class label of the leaf node assigned as the final resulting label of the new record.  "
   ]
  },
  {
   "cell_type": "markdown",
   "metadata": {},
   "source": [
    "Now what makes the tree to decide the best 'splitting' and 'stopping' condition? \n",
    "\n",
    "### Split Criterion\n",
    "\n",
    "Finding a best split condition at any node involves identifying which feature to use as well as deciding the boundary of split. For each of the available input feature, all possible split points are evaluated using a cost function with an aim to minimize it. The popular strategies for defining cost function are based on the choices such that each split minimizes the impurity at the child nodes. Most common criteria to measure the quality of a split are:\n",
    "\n",
    "#### GINI Index\n",
    "\n",
    "The GINI index for a node measures the impurity. Its defined in a way that its value is minimum when all the records at the node belongs to same class and maximum when each record belongs to a distinct class resulting in 50-50 split of classes in a binary classification problem. In GINI driven DT algorithms, the split condition is chosen to ensure that overall impurity after the split is as less possible as than the impurity at parent node. \n",
    "- The calculation of GINI index is quite simple - subtract the sum of the squared probabilities of each class from one.  \n",
    "\n",
    "#### Information Gain\n",
    "\n",
    "The information gain is based on the decrease in entropy after a split on an attribute of training dataset. The Entropy at a node is a measure of randomness in its data. Constructing a decision tree is all about finding feature that returns the highest information gain (i.e., the most homogeneous branches).\n",
    "- It is calculated as multiplication of the probability of the class times the log of that class probability. \n",
    "\n",
    "\n",
    "### Stopping Criterion\n",
    "\n",
    "The DT learning needs to know when to stop splitting as it works its way down the tree with training data. \n",
    "- An obvious idea is to reject a split if number of data records at any of the children-node is less than some threshold. This way a particular branch would stop growing once this condition of minimum number of data records in terminal node is met.\n",
    "- Another idea is to pre-define the maximum depth of the tree i.e. the maximum number of nodes from the root node of the tree. Once this condition of maximum depth of the tree is met, further splitting into new nodes must stop.\n",
    "\n",
    "Without such stopping requirements, the tree might grow deep and complex, resulting into ovefit the training data (overfit problem - discussed later in this section)."
   ]
  },
  {
   "cell_type": "markdown",
   "metadata": {},
   "source": [
    "## A Working Example\n",
    "\n",
    "In this section we show how to use DT classifier from scikit-learn package. For purpose of this demonstration we use the wine quality dataset from [UCI Machine Learning Repository](http://archive.ics.uci.edu/ml/machine-learning-databases/wine-quality/) which is clean, simple and very popular in Machine Learning circles. Some of the readers might already know about this dataset but anyone interested in further details can refer [this](http://archive.ics.uci.edu/ml/machine-learning-databases/wine-quality/winequality.names) link. Please note that one does n't need to worry too much about the domain specific importance of features in order to work through this example.\n",
    "\n",
    "We are using the white-wine dataset with 12 columns of which the one named **quality** is the grade **(0=Very Bad, 1=Excellent)** given by experts to the sample and its our target. Rest of the columns are various features like **Fixed Acidity, Volatile Acidity, Residual Sugar etc.** that desribe physico-chemical and sensory characteristics of the wine. Our aim is to to see if we can train a Decision Tree model to predict the quality using some or all of the feature variables. \n",
    "\n",
    "\n",
    "### Loading the Dataset"
   ]
  },
  {
   "cell_type": "code",
   "execution_count": 1,
   "metadata": {},
   "outputs": [],
   "source": [
    "#Load the Libraries\n",
    "import pandas as pd\n",
    "import numpy as np\n",
    "import matplotlib.pyplot as plt\n",
    "\n",
    "# get the data and create dataframe\n",
    "fName = 'https://archive.ics.uci.edu/ml/machine-learning-databases/wine-quality/winequality-white.csv'\n",
    "df = pd.read_csv(fName , sep = ';')"
   ]
  },
  {
   "cell_type": "code",
   "execution_count": 2,
   "metadata": {
    "scrolled": true
   },
   "outputs": [
    {
     "data": {
      "text/html": [
       "<table border=\"1\" class=\"dataframe\">\n",
       "  <thead>\n",
       "    <tr style=\"text-align: right;\">\n",
       "      <th></th>\n",
       "      <th>fixed acidity</th>\n",
       "      <th>volatile acidity</th>\n",
       "      <th>citric acid</th>\n",
       "      <th>residual sugar</th>\n",
       "      <th>chlorides</th>\n",
       "      <th>free sulfur dioxide</th>\n",
       "      <th>total sulfur dioxide</th>\n",
       "      <th>density</th>\n",
       "      <th>pH</th>\n",
       "      <th>sulphates</th>\n",
       "      <th>alcohol</th>\n",
       "      <th>quality</th>\n",
       "    </tr>\n",
       "  </thead>\n",
       "  <tbody>\n",
       "    <tr>\n",
       "      <th>0</th>\n",
       "      <td>7.0</td>\n",
       "      <td>0.27</td>\n",
       "      <td>0.36</td>\n",
       "      <td>20.7</td>\n",
       "      <td>0.045</td>\n",
       "      <td>45.0</td>\n",
       "      <td>170.0</td>\n",
       "      <td>1.0010</td>\n",
       "      <td>3.00</td>\n",
       "      <td>0.45</td>\n",
       "      <td>8.8</td>\n",
       "      <td>6</td>\n",
       "    </tr>\n",
       "    <tr>\n",
       "      <th>1</th>\n",
       "      <td>6.3</td>\n",
       "      <td>0.30</td>\n",
       "      <td>0.34</td>\n",
       "      <td>1.6</td>\n",
       "      <td>0.049</td>\n",
       "      <td>14.0</td>\n",
       "      <td>132.0</td>\n",
       "      <td>0.9940</td>\n",
       "      <td>3.30</td>\n",
       "      <td>0.49</td>\n",
       "      <td>9.5</td>\n",
       "      <td>6</td>\n",
       "    </tr>\n",
       "    <tr>\n",
       "      <th>2</th>\n",
       "      <td>8.1</td>\n",
       "      <td>0.28</td>\n",
       "      <td>0.40</td>\n",
       "      <td>6.9</td>\n",
       "      <td>0.050</td>\n",
       "      <td>30.0</td>\n",
       "      <td>97.0</td>\n",
       "      <td>0.9951</td>\n",
       "      <td>3.26</td>\n",
       "      <td>0.44</td>\n",
       "      <td>10.1</td>\n",
       "      <td>6</td>\n",
       "    </tr>\n",
       "    <tr>\n",
       "      <th>3</th>\n",
       "      <td>7.2</td>\n",
       "      <td>0.23</td>\n",
       "      <td>0.32</td>\n",
       "      <td>8.5</td>\n",
       "      <td>0.058</td>\n",
       "      <td>47.0</td>\n",
       "      <td>186.0</td>\n",
       "      <td>0.9956</td>\n",
       "      <td>3.19</td>\n",
       "      <td>0.40</td>\n",
       "      <td>9.9</td>\n",
       "      <td>6</td>\n",
       "    </tr>\n",
       "    <tr>\n",
       "      <th>4</th>\n",
       "      <td>7.2</td>\n",
       "      <td>0.23</td>\n",
       "      <td>0.32</td>\n",
       "      <td>8.5</td>\n",
       "      <td>0.058</td>\n",
       "      <td>47.0</td>\n",
       "      <td>186.0</td>\n",
       "      <td>0.9956</td>\n",
       "      <td>3.19</td>\n",
       "      <td>0.40</td>\n",
       "      <td>9.9</td>\n",
       "      <td>6</td>\n",
       "    </tr>\n",
       "  </tbody>\n",
       "</table>"
      ],
      "text/plain": [
       "<IPython.core.display.HTML object>"
      ]
     },
     "execution_count": 2,
     "metadata": {},
     "output_type": "execute_result"
    }
   ],
   "source": [
    "from IPython.display import display, HTML\n",
    "HTML (df.head(5).to_html())"
   ]
  },
  {
   "cell_type": "markdown",
   "metadata": {},
   "source": [
    "### Data Exploration and Preparation\n",
    "Ideally a Data Scientist starts with a thorough exploration of the features, correlations and patterns. This is called Exploratory Data Analysis (EDA) and is the most important phase in life cycle of a real world bussiness analysis. One of the major goals of EDA is pre-processing the data might need before it could be used for building models. Since we want to keep DT classification in sharp focus we will avoid a very detailed EDA and confine to simple tasks that are barely necessary. \n",
    "\n",
    "1. Outlier Removal.\n",
    "2. Target Binarization\n",
    "3. Feature Selection.\n",
    "\n",
    "Although EDA we do here is sufficient for the purposes of this tutorial but it by no means exhaust the list of what can be done. If you are interested in really detailed exploration and understanding of the feature set, please follow this [link](https://www.datacamp.com/community/tutorials/deep-learning-python).\n",
    "#### Outlier Removal\n",
    "Let us first look into distributions like density and box plots for some of the features."
   ]
  },
  {
   "cell_type": "code",
   "execution_count": 3,
   "metadata": {},
   "outputs": [
    {
     "data": {
      "image/png": "[encoded data removed]",
      "text/plain": [
       "<matplotlib.figure.Figure at 0x7f59dd8e2438>"
      ]
     },
     "metadata": {},
     "output_type": "display_data"
    },
    {
     "data": {
      "image/png": "[encoded data removed]",
      "text/plain": [
       "<matplotlib.figure.Figure at 0x7f59d6850208>"
      ]
     },
     "metadata": {},
     "output_type": "display_data"
    }
   ],
   "source": [
    "feature_list = list(df.columns[0:2])\n",
    "for col in feature_list:\n",
    "    fig, (ax1,ax2) = plt.subplots(1,2, figsize=(6,3))\n",
    "    df[col].plot(kind='box', ax = ax1)\n",
    "    df[col].plot(kind='density', ax = ax2)\n",
    "    plt.show()"
   ]
  },
  {
   "cell_type": "markdown",
   "metadata": {},
   "source": [
    "An outlier is an observation that appears to deviate markedly from other observations in the sample. Identification of potential outliers is important because they may indicate wrong or highly unusual pattern - and may have unfair influence on training process. \n",
    "\n",
    "After looking into box/density plots like shown above, we can notice that almost all the features in this dataset has some outliers.\n",
    "\n",
    "There are several approaches on dealing with this issue but we follow the simplest one by removing the records containing outlying feature values. "
   ]
  },
  {
   "cell_type": "code",
   "execution_count": 4,
   "metadata": {
    "collapsed": true
   },
   "outputs": [],
   "source": [
    "def remove_outliers(df_in, col_name):\n",
    "        q1 = df_in[col_name].quantile(0.25)\n",
    "        q3 = df_in[col_name].quantile(0.75)\n",
    "        iqr = q3-q1 #Interquartile range\n",
    "        fence_low  = q1-1.5*iqr\n",
    "        fence_high = q3+1.5*iqr\n",
    "        df_out = df_in.loc[(df_in[col_name] > fence_low) & (df_in[col_name] < fence_high)]\n",
    "        return df_out\n",
    "    \n",
    "#Outlier Removal\n",
    "feat = list(df.columns[:-1])\n",
    "for col in feat:\n",
    "    df = remove_outliers(df, col)\n"
   ]
  },
  {
   "cell_type": "markdown",
   "metadata": {},
   "source": [
    "#### Binarization of target \n",
    "The target quality is a multi-level variable assuming values 1 through 10. In order to keep simple we convert it into a binary label with values 0 and 1 respectively indicating excellent or poo wine-quality. The folding logic is implemented in function Taste below:"
   ]
  },
  {
   "cell_type": "code",
   "execution_count": 5,
   "metadata": {},
   "outputs": [
    {
     "name": "stdout",
     "output_type": "stream",
     "text": [
      "0    2784\n",
      "1    1167\n",
      "Name: quality, dtype: int64\n"
     ]
    }
   ],
   "source": [
    "def Taste(quality):\n",
    "    # If quality > 5, its a good wine.\n",
    "    # If quality < 5, its a poor wine.\n",
    "    if quality > 5:\n",
    "        return 0 #good\n",
    "    else:\n",
    "        return 1 #bad\n",
    "df['quality'] = df['quality'].apply(Taste)\n",
    "print(df.quality.value_counts())    #print number of good and bad samples"
   ]
  },
  {
   "cell_type": "markdown",
   "metadata": {},
   "source": [
    "#### Feature Selection\n",
    "In this section we will show how to identify highly correlated features and drop them from the model since they don't contribute any additional information. Dropping these encourages simplicity, performance of the model as well reduces the computational effort. "
   ]
  },
  {
   "cell_type": "code",
   "execution_count": 18,
   "metadata": {},
   "outputs": [
    {
     "data": {
      "text/html": [
       "<table border=\"1\" class=\"dataframe\">\n",
       "  <thead>\n",
       "    <tr style=\"text-align: right;\">\n",
       "      <th></th>\n",
       "      <th>Feature Pair</th>\n",
       "      <th>Pearson Correlation Coefficient (Absolute)</th>\n",
       "    </tr>\n",
       "  </thead>\n",
       "  <tbody>\n",
       "    <tr>\n",
       "      <th>0</th>\n",
       "      <td>(residual sugar, total sulfur dioxide)</td>\n",
       "      <td>0.413257</td>\n",
       "    </tr>\n",
       "    <tr>\n",
       "      <th>1</th>\n",
       "      <td>(residual sugar, density)</td>\n",
       "      <td>0.844136</td>\n",
       "    </tr>\n",
       "    <tr>\n",
       "      <th>2</th>\n",
       "      <td>(residual sugar, alcohol)</td>\n",
       "      <td>0.493852</td>\n",
       "    </tr>\n",
       "    <tr>\n",
       "      <th>3</th>\n",
       "      <td>(chlorides, density)</td>\n",
       "      <td>0.511490</td>\n",
       "    </tr>\n",
       "    <tr>\n",
       "      <th>4</th>\n",
       "      <td>(chlorides, alcohol)</td>\n",
       "      <td>0.556369</td>\n",
       "    </tr>\n",
       "    <tr>\n",
       "      <th>5</th>\n",
       "      <td>(free sulfur dioxide, total sulfur dioxide)</td>\n",
       "      <td>0.620374</td>\n",
       "    </tr>\n",
       "    <tr>\n",
       "      <th>6</th>\n",
       "      <td>(total sulfur dioxide, density)</td>\n",
       "      <td>0.554086</td>\n",
       "    </tr>\n",
       "    <tr>\n",
       "      <th>7</th>\n",
       "      <td>(total sulfur dioxide, alcohol)</td>\n",
       "      <td>0.477305</td>\n",
       "    </tr>\n",
       "    <tr>\n",
       "      <th>8</th>\n",
       "      <td>(density, alcohol)</td>\n",
       "      <td>0.822894</td>\n",
       "    </tr>\n",
       "  </tbody>\n",
       "</table>"
      ],
      "text/plain": [
       "<IPython.core.display.HTML object>"
      ]
     },
     "execution_count": 18,
     "metadata": {},
     "output_type": "execute_result"
    }
   ],
   "source": [
    "import itertools\n",
    "\n",
    "#Obtain the correlation Matrix\n",
    "corr = df.corr().abs() \n",
    "\n",
    "#Obtain unique feature combinations.\n",
    "all_pairs = list(itertools.combinations(corr,2))\n",
    "\n",
    "#Return pair->correl_coeff for correl_coeff>0.4\n",
    "corr_vals = [ [(i,j),corr.loc[i,j]] for i,j in all_pairs if corr.loc[i,j]>0.4]\n",
    "\n",
    "#For printing ease, convert to DataFrame and add column headers\n",
    "corr_vals = pd.DataFrame(corr_vals,columns=['Feature Pair','Pearson Correlation Coefficient (Absolute)'] )\n",
    "\n",
    "#Render using HTML\n",
    "HTML(corr_vals.to_html())"
   ]
  },
  {
   "cell_type": "markdown",
   "metadata": {},
   "source": [
    "Note that **density**, **residual sugar**, **total sulfur dioxide** and **alcohol** appear most often in high correlation pairs. Hence we will drop these features except **alcohol**. "
   ]
  },
  {
   "cell_type": "code",
   "execution_count": 7,
   "metadata": {
    "collapsed": true
   },
   "outputs": [],
   "source": [
    "#Features Dataset\n",
    "X = df.drop(['quality', 'total sulfur dioxide', 'density', 'residual sugar'], axis=1)\n",
    "\n",
    "#Target Dataset\n",
    "y = df['quality']"
   ]
  },
  {
   "cell_type": "markdown",
   "metadata": {},
   "source": [
    "### Test and Training Sets\n",
    "Below we split the feature and target sets into training and testing subsets."
   ]
  },
  {
   "cell_type": "code",
   "execution_count": 8,
   "metadata": {},
   "outputs": [],
   "source": [
    "from sklearn.model_selection import train_test_split\n",
    "\n",
    "#Split the data into test and train sets\n",
    "X_train, X_test, y_train, y_test = train_test_split(X, y, test_size=0.4, random_state=21)"
   ]
  },
  {
   "cell_type": "markdown",
   "metadata": {},
   "source": [
    "### Training the Classifier\n",
    "We now are almost ready to train the Decision Tree classifier but before we do that we need to perform feature scaling. Feature scaling standardizes the range of features so that the ones with higher number scales don't have undue influence on how the model trains. Below we create a pipeline that performs following actions in order:\n",
    "\n",
    "1. Apply feature scaling using StandardScaler from scikit-learn.\n",
    "2. Create a DecisionTreeClassifier and fit to the training data.\n"
   ]
  },
  {
   "cell_type": "code",
   "execution_count": 9,
   "metadata": {
    "collapsed": true
   },
   "outputs": [],
   "source": [
    "from sklearn.pipeline import Pipeline\n",
    "from sklearn.tree import DecisionTreeClassifier\n",
    "from sklearn.preprocessing import StandardScaler\n",
    "\n",
    "# What the steps ?\n",
    "steps = [('scaler', StandardScaler()),('dtc', DecisionTreeClassifier())]\n",
    "        \n",
    "# Create the pipeline: pipeline\n",
    "pipeline = Pipeline(steps)\n",
    "\n",
    "\n",
    "# Fit the pipeline to the training set\n",
    "dtc_scaled = pipeline.fit(X_train, y_train)"
   ]
  },
  {
   "cell_type": "markdown",
   "metadata": {},
   "source": [
    "### Testing the Classifier\n",
    "Now that we already have created a trained classifier, we will use the test set created above to obtain predicted values of **quality** label. Subsequently we will compare these predictions with truth values in order to quantify the performance of our classifier. Note that the test set is disjoint to the dataset used for training the classifier- its important in order to ensure unbiased measurement of model performance.\n",
    "\n",
    "#### Evaluating the performance\n",
    "Although we would like our ML models to always provide correct answers, but like everything else in life, they too can make mistakes. In context of our example these mistakes be grouped as follows:\n",
    "\n",
    "1. Type 1 Error : The trained DT gives label poor to a wine that is actually good.\n",
    "2. Type 2 Error : The trained DT gives label excellent to a wine thats actually poor.\n",
    "\n",
    "Model performance is usually quantified with metrics like precision, recall, f1-score which are computed by comparing predicted values of target to the true ones. For this tutorial, we rely on model sensitivity or recall score which measures how often the classifier correctly identifies the bad quality wine-samples. This could be an important information for a winery in order to ensure that only best tasting of its samples are released into the market."
   ]
  },
  {
   "cell_type": "code",
   "execution_count": 10,
   "metadata": {},
   "outputs": [
    {
     "name": "stdout",
     "output_type": "stream",
     "text": [
      "             precision    recall  f1-score   support\n",
      "\n",
      "          0       0.83      0.84      0.83      1107\n",
      "          1       0.61      0.60      0.61       474\n",
      "\n",
      "avg / total       0.76      0.77      0.77      1581\n",
      "\n"
     ]
    }
   ],
   "source": [
    "from sklearn.metrics import classification_report\n",
    "\n",
    "# Compute and print metrics\n",
    "y_pred_scaled = dtc_scaled.predict(X_test)\n",
    "print(classification_report(y_test, y_pred_scaled))"
   ]
  },
  {
   "cell_type": "markdown",
   "metadata": {},
   "source": [
    "In the classification report above we see that of all the wine-samples labelled as bad just a little over half (61%) are actually bad (precision). Similarly, off all the bad wine-samples in test set, the model could identify only (60%) as bad. We must note here that while its great to witness the ability of decision tree to correctly identify the wine-quality in so many cases, the performance metrics are not exactly flattering.\n",
    "\n",
    "In rest of the tutorial we talk about problems that can adversely affect the classifier's performance and also discuss methods to tackle them. For starters lets begin by asking how complex is the our trained DT classifier i.e What is the total number of Nodes ?"
   ]
  },
  {
   "cell_type": "code",
   "execution_count": 11,
   "metadata": {},
   "outputs": [
    {
     "data": {
      "text/html": [
       "<br><table border=\"1\" class=\"dataframe\">\n",
       "  <thead>\n",
       "    <tr style=\"text-align: right;\">\n",
       "      <th></th>\n",
       "      <th>Number of Nodes</th>\n",
       "      <th>Maximum Depth</th>\n",
       "    </tr>\n",
       "  </thead>\n",
       "  <tbody>\n",
       "    <tr>\n",
       "      <th>0</th>\n",
       "      <td>759</td>\n",
       "      <td>19</td>\n",
       "    </tr>\n",
       "  </tbody>\n",
       "</table><br>"
      ],
      "text/plain": [
       "<IPython.core.display.HTML object>"
      ]
     },
     "execution_count": 11,
     "metadata": {},
     "output_type": "execute_result"
    }
   ],
   "source": [
    "#Find numNodes, maxDepth of Classifier\n",
    "n_nodes   = dtc_scaled.named_steps['dtc'].tree_.node_count\n",
    "max_depth = dtc_scaled.named_steps['dtc'].tree_.max_depth \n",
    "\n",
    "#Print to the screen, use Dataframes for nice aesthetics\n",
    "dfx = [[n_nodes,max_depth]]\n",
    "dfx = pd.DataFrame(dfx,columns=['Number of Nodes', 'Maximum Depth'])\n",
    "HTML('<br>'+dfx.to_html()+'<br>')"
   ]
  },
  {
   "cell_type": "markdown",
   "metadata": {},
   "source": [
    "We see above that node of maximum depth in DT is 19 layers deep which is arguably too much for a dataset with 12 features only. Rest of this tutorial will examine the reasons for this complexity, and discuss what can we do to controll them."
   ]
  },
  {
   "cell_type": "markdown",
   "metadata": {},
   "source": [
    "### Optimizing the Classifier against Statistical Noise\n",
    "Every dataset contains random noise on account of statistical fluctuations or irreducible error. A good model is the one that seeks to learn systematic mapping between the features and neglects the noise. A situation when model treats the statistical noise in training sample as a valid pattern is called Overfitting. It is a problem, because statistical noise in training set is unique to it and adversely affects the model's performance on test samples since they have their own noise patterns. Algorithmically this happens when a learner tree continues to go deeper and deeper in splitting, building several branches just because of outliers and other irregularities in data. One of the ways to counter this is to reduce the complexity of DT by pruning sections that provide little power to classify.\n",
    "\n",
    "#### Pruning\n",
    "Pruning the DT can help supress the effects of overfitting by enforcing some measures of simplicity that prevent tree from growing too deep and complex. The scikit-learn provides several customizable parameters to constrain how the tree grows during training phase. Here's a few of them:\n",
    "\n",
    "1. **max_depth** : The maximum depth allowed to final tree.\n",
    "2. **min_samples_split**: Minimum number of samples required to split an internal node.\n",
    "3. **min_samples_leaf** : Minimum number of samples required to be at a leaf node.\n",
    "4. **max_features** : Number of features to consider when looking for the best split.\n",
    "5. **min_impurity_decrease**: Minimum decrease of the impurity to allow a split.\n",
    "6. **min_impurity_split** : A node will split if its impurity is above the threshold, otherwise it is a leaf.\n",
    "\n",
    "While its awesome to have so many controllable parameters but arriving at at optimal combination can be rather tedious. We below show how to arrive at 'best' value of a **\"max_depth\"** by doing search over a grid of several possible values.\n",
    "\n",
    "##### Create parameter grid"
   ]
  },
  {
   "cell_type": "code",
   "execution_count": 12,
   "metadata": {
    "collapsed": true
   },
   "outputs": [],
   "source": [
    "#Choose search points in parameter space\n",
    "parameters = { \"dtc__max_depth\": [x for x in range(1,21)]}"
   ]
  },
  {
   "cell_type": "markdown",
   "metadata": {},
   "source": [
    "##### Perform search using GridSearchCV\n",
    "Below we setup a grid search by specifying the model (**pipeline**), grid (**parameters**) and scoring (**scoring='recall'**) parameters. In current configuration we will end up with a trained model with a value **max_depth** from grid that maximizes the recall.  "
   ]
  },
  {
   "cell_type": "code",
   "execution_count": 19,
   "metadata": {
    "scrolled": true
   },
   "outputs": [
    {
     "name": "stdout",
     "output_type": "stream",
     "text": [
      "\n"
     ]
    }
   ],
   "source": [
    "from sklearn.model_selection import GridSearchCV\n",
    "\n",
    "# Instantiate the GridSearchCV object: cv\n",
    "cv = GridSearchCV(pipeline, parameters, scoring='recall',return_train_score=True)\n",
    "\n",
    "# Fit to the training set\n",
    "cv.fit(X_train, y_train)\n",
    "print('')"
   ]
  },
  {
   "cell_type": "markdown",
   "metadata": {},
   "source": [
    "##### Testing the Optimized Classifier\n",
    "Now its time to see how the optimized classifier performs:"
   ]
  },
  {
   "cell_type": "code",
   "execution_count": 14,
   "metadata": {},
   "outputs": [
    {
     "name": "stdout",
     "output_type": "stream",
     "text": [
      "             precision    recall  f1-score   support\n",
      "\n",
      "          0       0.85      0.77      0.80      1107\n",
      "          1       0.55      0.67      0.61       474\n",
      "\n",
      "avg / total       0.76      0.74      0.74      1581\n",
      "\n"
     ]
    }
   ],
   "source": [
    "# Predict the labels of the test set: y_pred\n",
    "y_pred = cv.predict(X_test)\n",
    "\n",
    "# Compute and print metrics\n",
    "print(classification_report(y_test, y_pred))"
   ]
  },
  {
   "cell_type": "markdown",
   "metadata": {},
   "source": [
    "We see that the recall is 7% higher in optimized classifier compared to the default one. This comes at cost of precision, but it could be acceptable since not letting bad samples into the market is often bigger goal.   "
   ]
  },
  {
   "cell_type": "markdown",
   "metadata": {},
   "source": [
    "#### Understanding the Gridsearch\n",
    "We now take a step back and understand the working of GridSearch mechanism. As seen above we begin by creating a grid of possible values the parameter can assume. The search mechanism successively sets parameter equal to different points on the grid and evaluates the the performance each time. The performance evaluation is done by performing k-fold cross-validation as follows:\n",
    "\n",
    "** K-Fold Cross Validation **:\n",
    "* Split the dataset into k-folds\n",
    "* Hold back 1 fold as test set, and use rest (k-1) folds for training\n",
    "* Using test set, evaluate the model performance. \n",
    "* Repeat above two steps until each fold has acted as test set\n",
    "* At the end, we end up with 'k' performance scores- one for each fold \n",
    "* Find the mean,stddev of performance score  \n",
    "\n",
    "The k-fold validation gives better results because the algorithm is trained and evaluated multiple times on different data. After all the values on parameter grid have been visited by search algorithm, it picks out the one that maximizes the **performance score** to be used as the **optimal** point.\n",
    "\n",
    "Below we show how to access the mean and standard deviation of **perfromance score** at each point on the parameter grid.  "
   ]
  },
  {
   "cell_type": "code",
   "execution_count": 15,
   "metadata": {},
   "outputs": [
    {
     "data": {
      "image/png": "[encoded data removed]",
      "text/plain": [
       "<matplotlib.figure.Figure at 0x7f59cc0a7748>"
      ]
     },
     "metadata": {},
     "output_type": "display_data"
    }
   ],
   "source": [
    "f, (ax1, ax2) = plt.subplots(1,2,figsize=(20,5))\n",
    "#Lets plot the graph of max depth vs recall\n",
    "depth_val = []\n",
    "score_val = []\n",
    "#for a in cv.cv_results_: print (a)\n",
    "tran_scores = cv.cv_results_['mean_train_score']\n",
    "test_scores = cv.cv_results_['mean_test_score']\n",
    "\n",
    "tran_std = cv.cv_results_['std_train_score']\n",
    "test_std = cv.cv_results_['std_test_score']\n",
    "\n",
    "\n",
    "test_points = cv.cv_results_['param_dtc__max_depth']\n",
    "\n",
    "\n",
    "ax1.plot(test_points,test_scores, marker='o', label = \"Test\")\n",
    "ax1.plot(test_points,tran_scores, marker='o', label = \"Train\")\n",
    "\n",
    "ax2.plot(test_points,test_std, marker='o', label = \"Test\")\n",
    "ax2.plot(test_points,tran_std, marker='o', label = \"Train\")\n",
    "\n",
    "ax1.set_ylabel('recall_mean')\n",
    "ax2.set_ylabel('recall_stddev')\n",
    "\n",
    "ax1.legend()\n",
    "ax2.legend()\n",
    "plt.show()"
   ]
  },
  {
   "cell_type": "markdown",
   "metadata": {},
   "source": [
    "You can notice in this plot that as you keep on increasing the model depth the sensitivity score for training sample is increasing but the test score is not following the same trend. \n",
    "This shows us that training sample is picking up all noises from the train sample and is not able to generalize it's predictions on unseen test sample. Also note that the number of nodes increases with increase in tree depth i.e. tree complexity is directly propotional to tree depth. So, it's better to keep the tree simple by restricting the tree depth to 2 (gives test score). "
   ]
  },
  {
   "cell_type": "markdown",
   "metadata": {},
   "source": [
    "### Visualizing the Trained DT\n",
    "\n",
    "A great advantage with DT is how easily they could be visualized and interpretted. \n",
    "We can easily export the trained tree in [Graphviz (a visulization software)](http://www.graphviz.org/) format using the [export_graphviz exporter](http://scikit-learn.org/stable/modules/generated/sklearn.tree.export_graphviz.html) and visulize the set of rules alongwith gini or entropy score and training records in each node. \n",
    "\n",
    "First we show the pruned tree as it is simple to understand:"
   ]
  },
  {
   "cell_type": "code",
   "execution_count": 16,
   "metadata": {},
   "outputs": [
    {
     "name": "stdout",
     "output_type": "stream",
     "text": [
      "0    1677\n",
      "1     693\n",
      "Name: quality, dtype: int64\n"
     ]
    },
    {
     "data": {
      "image/svg+xml": [
       "<?xml version=\"1.0\" encoding=\"UTF-8\" standalone=\"no\"?>\n",
       "<!DOCTYPE svg PUBLIC \"-//W3C//DTD SVG 1.1//EN\"\n",
       " \"http://www.w3.org/Graphics/SVG/1.1/DTD/svg11.dtd\">\n",
       "<!-- Generated by graphviz version 2.38.0 (20140413.2041)\n",
       " -->\n",
       "<!-- Title: Tree Pages: 1 -->\n",
       "<svg width=\"570pt\" height=\"322pt\"\n",
       " viewBox=\"0.00 0.00 570.00 321.50\" xmlns=\"http://www.w3.org/2000/svg\" xmlns:xlink=\"http://www.w3.org/1999/xlink\">\n",
       "<g id=\"graph0\" class=\"graph\" transform=\"scale(1 1) rotate(0) translate(4 317.5)\">\n",
       "<title>Tree</title>\n",
       "<polygon fill=\"white\" stroke=\"none\" points=\"-4,4 -4,-317.5 566,-317.5 566,4 -4,4\"/>\n",
       "<!-- 0 -->\n",
       "<g id=\"node1\" class=\"node\"><title>0</title>\n",
       "<path fill=\"#e58139\" fill-opacity=\"0.588235\" stroke=\"black\" d=\"M338.5,-313.5C338.5,-313.5 230.5,-313.5 230.5,-313.5 224.5,-313.5 218.5,-307.5 218.5,-301.5 218.5,-301.5 218.5,-242.5 218.5,-242.5 218.5,-236.5 224.5,-230.5 230.5,-230.5 230.5,-230.5 338.5,-230.5 338.5,-230.5 344.5,-230.5 350.5,-236.5 350.5,-242.5 350.5,-242.5 350.5,-301.5 350.5,-301.5 350.5,-307.5 344.5,-313.5 338.5,-313.5\"/>\n",
       "<text text-anchor=\"middle\" x=\"284.5\" y=\"-298.3\" font-family=\"Helvetica,sans-Serif\" font-size=\"14.00\">node #0</text>\n",
       "<text text-anchor=\"middle\" x=\"284.5\" y=\"-283.3\" font-family=\"Helvetica,sans-Serif\" font-size=\"14.00\">alcohol &lt;= 10.75</text>\n",
       "<text text-anchor=\"middle\" x=\"284.5\" y=\"-268.3\" font-family=\"Helvetica,sans-Serif\" font-size=\"14.00\">gini = 0.414</text>\n",
       "<text text-anchor=\"middle\" x=\"284.5\" y=\"-253.3\" font-family=\"Helvetica,sans-Serif\" font-size=\"14.00\">samples = 2370</text>\n",
       "<text text-anchor=\"middle\" x=\"284.5\" y=\"-238.3\" font-family=\"Helvetica,sans-Serif\" font-size=\"14.00\">value = [1677, 693]</text>\n",
       "</g>\n",
       "<!-- 1 -->\n",
       "<g id=\"node2\" class=\"node\"><title>1</title>\n",
       "<path fill=\"#e58139\" fill-opacity=\"0.274510\" stroke=\"black\" d=\"M261.5,-194.5C261.5,-194.5 127.5,-194.5 127.5,-194.5 121.5,-194.5 115.5,-188.5 115.5,-182.5 115.5,-182.5 115.5,-123.5 115.5,-123.5 115.5,-117.5 121.5,-111.5 127.5,-111.5 127.5,-111.5 261.5,-111.5 261.5,-111.5 267.5,-111.5 273.5,-117.5 273.5,-123.5 273.5,-123.5 273.5,-182.5 273.5,-182.5 273.5,-188.5 267.5,-194.5 261.5,-194.5\"/>\n",
       "<text text-anchor=\"middle\" x=\"194.5\" y=\"-179.3\" font-family=\"Helvetica,sans-Serif\" font-size=\"14.00\">node #1</text>\n",
       "<text text-anchor=\"middle\" x=\"194.5\" y=\"-164.3\" font-family=\"Helvetica,sans-Serif\" font-size=\"14.00\">volatile acidity &lt;= 0.237</text>\n",
       "<text text-anchor=\"middle\" x=\"194.5\" y=\"-149.3\" font-family=\"Helvetica,sans-Serif\" font-size=\"14.00\">gini = 0.487</text>\n",
       "<text text-anchor=\"middle\" x=\"194.5\" y=\"-134.3\" font-family=\"Helvetica,sans-Serif\" font-size=\"14.00\">samples = 1343</text>\n",
       "<text text-anchor=\"middle\" x=\"194.5\" y=\"-119.3\" font-family=\"Helvetica,sans-Serif\" font-size=\"14.00\">value = [779, 564]</text>\n",
       "</g>\n",
       "<!-- 0&#45;&gt;1 -->\n",
       "<g id=\"edge1\" class=\"edge\"><title>0&#45;&gt;1</title>\n",
       "<path fill=\"none\" stroke=\"black\" d=\"M253.275,-230.407C246.364,-221.423 238.973,-211.815 231.846,-202.55\"/>\n",
       "<polygon fill=\"black\" stroke=\"black\" points=\"234.541,-200.313 225.67,-194.521 228.993,-204.581 234.541,-200.313\"/>\n",
       "<text text-anchor=\"middle\" x=\"222.436\" y=\"-215.611\" font-family=\"Helvetica,sans-Serif\" font-size=\"14.00\">True</text>\n",
       "</g>\n",
       "<!-- 4 -->\n",
       "<g id=\"node5\" class=\"node\"><title>4</title>\n",
       "<path fill=\"#e58139\" fill-opacity=\"0.854902\" stroke=\"black\" d=\"M445.5,-194.5C445.5,-194.5 303.5,-194.5 303.5,-194.5 297.5,-194.5 291.5,-188.5 291.5,-182.5 291.5,-182.5 291.5,-123.5 291.5,-123.5 291.5,-117.5 297.5,-111.5 303.5,-111.5 303.5,-111.5 445.5,-111.5 445.5,-111.5 451.5,-111.5 457.5,-117.5 457.5,-123.5 457.5,-123.5 457.5,-182.5 457.5,-182.5 457.5,-188.5 451.5,-194.5 445.5,-194.5\"/>\n",
       "<text text-anchor=\"middle\" x=\"374.5\" y=\"-179.3\" font-family=\"Helvetica,sans-Serif\" font-size=\"14.00\">node #4</text>\n",
       "<text text-anchor=\"middle\" x=\"374.5\" y=\"-164.3\" font-family=\"Helvetica,sans-Serif\" font-size=\"14.00\">free sulfur dioxide &lt;= 7.5</text>\n",
       "<text text-anchor=\"middle\" x=\"374.5\" y=\"-149.3\" font-family=\"Helvetica,sans-Serif\" font-size=\"14.00\">gini = 0.22</text>\n",
       "<text text-anchor=\"middle\" x=\"374.5\" y=\"-134.3\" font-family=\"Helvetica,sans-Serif\" font-size=\"14.00\">samples = 1027</text>\n",
       "<text text-anchor=\"middle\" x=\"374.5\" y=\"-119.3\" font-family=\"Helvetica,sans-Serif\" font-size=\"14.00\">value = [898, 129]</text>\n",
       "</g>\n",
       "<!-- 0&#45;&gt;4 -->\n",
       "<g id=\"edge4\" class=\"edge\"><title>0&#45;&gt;4</title>\n",
       "<path fill=\"none\" stroke=\"black\" d=\"M315.725,-230.407C322.636,-221.423 330.027,-211.815 337.154,-202.55\"/>\n",
       "<polygon fill=\"black\" stroke=\"black\" points=\"340.007,-204.581 343.33,-194.521 334.459,-200.313 340.007,-204.581\"/>\n",
       "<text text-anchor=\"middle\" x=\"346.564\" y=\"-215.611\" font-family=\"Helvetica,sans-Serif\" font-size=\"14.00\">False</text>\n",
       "</g>\n",
       "<!-- 2 -->\n",
       "<g id=\"node3\" class=\"node\"><title>2</title>\n",
       "<path fill=\"#e58139\" fill-opacity=\"0.713725\" stroke=\"black\" d=\"M113,-68C113,-68 12,-68 12,-68 6,-68 7.10543e-15,-62 7.10543e-15,-56 7.10543e-15,-56 7.10543e-15,-12 7.10543e-15,-12 7.10543e-15,-6 6,-0 12,-0 12,-0 113,-0 113,-0 119,-0 125,-6 125,-12 125,-12 125,-56 125,-56 125,-62 119,-68 113,-68\"/>\n",
       "<text text-anchor=\"middle\" x=\"62.5\" y=\"-52.8\" font-family=\"Helvetica,sans-Serif\" font-size=\"14.00\">node #2</text>\n",
       "<text text-anchor=\"middle\" x=\"62.5\" y=\"-37.8\" font-family=\"Helvetica,sans-Serif\" font-size=\"14.00\">gini = 0.346</text>\n",
       "<text text-anchor=\"middle\" x=\"62.5\" y=\"-22.8\" font-family=\"Helvetica,sans-Serif\" font-size=\"14.00\">samples = 525</text>\n",
       "<text text-anchor=\"middle\" x=\"62.5\" y=\"-7.8\" font-family=\"Helvetica,sans-Serif\" font-size=\"14.00\">value = [408, 117]</text>\n",
       "</g>\n",
       "<!-- 1&#45;&gt;2 -->\n",
       "<g id=\"edge2\" class=\"edge\"><title>1&#45;&gt;2</title>\n",
       "<path fill=\"none\" stroke=\"black\" d=\"M148.703,-111.407C135.383,-99.6005 120.847,-86.7166 107.571,-74.9495\"/>\n",
       "<polygon fill=\"black\" stroke=\"black\" points=\"109.724,-72.1808 99.9191,-68.1669 105.081,-77.4193 109.724,-72.1808\"/>\n",
       "</g>\n",
       "<!-- 3 -->\n",
       "<g id=\"node4\" class=\"node\"><title>3</title>\n",
       "<path fill=\"#399de5\" fill-opacity=\"0.168627\" stroke=\"black\" d=\"M256,-68C256,-68 155,-68 155,-68 149,-68 143,-62 143,-56 143,-56 143,-12 143,-12 143,-6 149,-0 155,-0 155,-0 256,-0 256,-0 262,-0 268,-6 268,-12 268,-12 268,-56 268,-56 268,-62 262,-68 256,-68\"/>\n",
       "<text text-anchor=\"middle\" x=\"205.5\" y=\"-52.8\" font-family=\"Helvetica,sans-Serif\" font-size=\"14.00\">node #3</text>\n",
       "<text text-anchor=\"middle\" x=\"205.5\" y=\"-37.8\" font-family=\"Helvetica,sans-Serif\" font-size=\"14.00\">gini = 0.496</text>\n",
       "<text text-anchor=\"middle\" x=\"205.5\" y=\"-22.8\" font-family=\"Helvetica,sans-Serif\" font-size=\"14.00\">samples = 818</text>\n",
       "<text text-anchor=\"middle\" x=\"205.5\" y=\"-7.8\" font-family=\"Helvetica,sans-Serif\" font-size=\"14.00\">value = [371, 447]</text>\n",
       "</g>\n",
       "<!-- 1&#45;&gt;3 -->\n",
       "<g id=\"edge3\" class=\"edge\"><title>1&#45;&gt;3</title>\n",
       "<path fill=\"none\" stroke=\"black\" d=\"M198.316,-111.407C199.323,-100.704 200.412,-89.1154 201.431,-78.2762\"/>\n",
       "<polygon fill=\"black\" stroke=\"black\" points=\"204.93,-78.4507 202.382,-68.1669 197.961,-77.7954 204.93,-78.4507\"/>\n",
       "</g>\n",
       "<!-- 5 -->\n",
       "<g id=\"node6\" class=\"node\"><title>5</title>\n",
       "<path fill=\"#399de5\" fill-opacity=\"0.521569\" stroke=\"black\" d=\"M406.5,-68C406.5,-68 320.5,-68 320.5,-68 314.5,-68 308.5,-62 308.5,-56 308.5,-56 308.5,-12 308.5,-12 308.5,-6 314.5,-0 320.5,-0 320.5,-0 406.5,-0 406.5,-0 412.5,-0 418.5,-6 418.5,-12 418.5,-12 418.5,-56 418.5,-56 418.5,-62 412.5,-68 406.5,-68\"/>\n",
       "<text text-anchor=\"middle\" x=\"363.5\" y=\"-52.8\" font-family=\"Helvetica,sans-Serif\" font-size=\"14.00\">node #5</text>\n",
       "<text text-anchor=\"middle\" x=\"363.5\" y=\"-37.8\" font-family=\"Helvetica,sans-Serif\" font-size=\"14.00\">gini = 0.438</text>\n",
       "<text text-anchor=\"middle\" x=\"363.5\" y=\"-22.8\" font-family=\"Helvetica,sans-Serif\" font-size=\"14.00\">samples = 34</text>\n",
       "<text text-anchor=\"middle\" x=\"363.5\" y=\"-7.8\" font-family=\"Helvetica,sans-Serif\" font-size=\"14.00\">value = [11, 23]</text>\n",
       "</g>\n",
       "<!-- 4&#45;&gt;5 -->\n",
       "<g id=\"edge5\" class=\"edge\"><title>4&#45;&gt;5</title>\n",
       "<path fill=\"none\" stroke=\"black\" d=\"M370.684,-111.407C369.677,-100.704 368.588,-89.1154 367.569,-78.2762\"/>\n",
       "<polygon fill=\"black\" stroke=\"black\" points=\"371.039,-77.7954 366.618,-68.1669 364.07,-78.4507 371.039,-77.7954\"/>\n",
       "</g>\n",
       "<!-- 6 -->\n",
       "<g id=\"node7\" class=\"node\"><title>6</title>\n",
       "<path fill=\"#e58139\" fill-opacity=\"0.882353\" stroke=\"black\" d=\"M550,-68C550,-68 449,-68 449,-68 443,-68 437,-62 437,-56 437,-56 437,-12 437,-12 437,-6 443,-0 449,-0 449,-0 550,-0 550,-0 556,-0 562,-6 562,-12 562,-12 562,-56 562,-56 562,-62 556,-68 550,-68\"/>\n",
       "<text text-anchor=\"middle\" x=\"499.5\" y=\"-52.8\" font-family=\"Helvetica,sans-Serif\" font-size=\"14.00\">node #6</text>\n",
       "<text text-anchor=\"middle\" x=\"499.5\" y=\"-37.8\" font-family=\"Helvetica,sans-Serif\" font-size=\"14.00\">gini = 0.191</text>\n",
       "<text text-anchor=\"middle\" x=\"499.5\" y=\"-22.8\" font-family=\"Helvetica,sans-Serif\" font-size=\"14.00\">samples = 993</text>\n",
       "<text text-anchor=\"middle\" x=\"499.5\" y=\"-7.8\" font-family=\"Helvetica,sans-Serif\" font-size=\"14.00\">value = [887, 106]</text>\n",
       "</g>\n",
       "<!-- 4&#45;&gt;6 -->\n",
       "<g id=\"edge6\" class=\"edge\"><title>4&#45;&gt;6</title>\n",
       "<path fill=\"none\" stroke=\"black\" d=\"M417.868,-111.407C430.364,-99.7109 443.99,-86.9573 456.466,-75.2797\"/>\n",
       "<polygon fill=\"black\" stroke=\"black\" points=\"459.156,-77.5558 464.065,-68.1669 454.373,-72.4452 459.156,-77.5558\"/>\n",
       "</g>\n",
       "</g>\n",
       "</svg>\n"
      ],
      "text/plain": [
       "<graphviz.files.Source at 0x7f59cc104320>"
      ]
     },
     "execution_count": 16,
     "metadata": {},
     "output_type": "execute_result"
    }
   ],
   "source": [
    "print(y_train.value_counts())           #to check the number of good and bad quality samples\n",
    "dtc = DecisionTreeClassifier(max_depth=2)\n",
    "dtc.fit(X_train, y_train)\n",
    "import graphviz\n",
    "import pydot \n",
    "from sklearn.externals.six import StringIO  \n",
    "from sklearn.tree import export_graphviz\n",
    "dot_data = export_graphviz(dtc, feature_names =X.columns[:], leaves_parallel = True,\n",
    "                           node_ids = True, filled=True, rounded=True,out_file=None, \n",
    "                           max_depth = 3)\n",
    "graphviz.Source(dot_data) "
   ]
  },
  {
   "cell_type": "markdown",
   "metadata": {},
   "source": [
    "As can be seen from above picture, root node (node-0) checks if alcohol content in white wine is less than or more than 10% and classifies the training subset that has 1677 good and 693 bad quality wine samples. It ends with two child nodes which are not so pure given gini score in them. \n",
    "\n",
    "But note that our purpose here is just to get a data driven model that has a simple set of rules to predict the class for a new sample.\n",
    "\n",
    "Below let us visulize the unpruned complex tree that we trained before just for the purpose of getting a notion of how complex the tree was. Since this is more than 1000 nodes tree, while plotting we have restricted the depth to be 3. "
   ]
  },
  {
   "cell_type": "code",
   "execution_count": 17,
   "metadata": {},
   "outputs": [
    {
     "data": {
      "image/svg+xml": [
       "<?xml version=\"1.0\" encoding=\"UTF-8\" standalone=\"no\"?>\n",
       "<!DOCTYPE svg PUBLIC \"-//W3C//DTD SVG 1.1//EN\"\n",
       " \"http://www.w3.org/Graphics/SVG/1.1/DTD/svg11.dtd\">\n",
       "<!-- Generated by graphviz version 2.38.0 (20140413.2041)\n",
       " -->\n",
       "<!-- Title: Tree Pages: 1 -->\n",
       "<svg width=\"1215pt\" height=\"544pt\"\n",
       " viewBox=\"0.00 0.00 1215.00 543.50\" xmlns=\"http://www.w3.org/2000/svg\" xmlns:xlink=\"http://www.w3.org/1999/xlink\">\n",
       "<g id=\"graph0\" class=\"graph\" transform=\"scale(1 1) rotate(0) translate(4 539.5)\">\n",
       "<title>Tree</title>\n",
       "<polygon fill=\"white\" stroke=\"none\" points=\"-4,4 -4,-539.5 1211,-539.5 1211,4 -4,4\"/>\n",
       "<!-- 0 -->\n",
       "<g id=\"node1\" class=\"node\"><title>0</title>\n",
       "<path fill=\"#e58139\" fill-opacity=\"0.588235\" stroke=\"black\" d=\"M630,-535.5C630,-535.5 522,-535.5 522,-535.5 516,-535.5 510,-529.5 510,-523.5 510,-523.5 510,-464.5 510,-464.5 510,-458.5 516,-452.5 522,-452.5 522,-452.5 630,-452.5 630,-452.5 636,-452.5 642,-458.5 642,-464.5 642,-464.5 642,-523.5 642,-523.5 642,-529.5 636,-535.5 630,-535.5\"/>\n",
       "<text text-anchor=\"middle\" x=\"576\" y=\"-520.3\" font-family=\"Helvetica,sans-Serif\" font-size=\"14.00\">node #0</text>\n",
       "<text text-anchor=\"middle\" x=\"576\" y=\"-505.3\" font-family=\"Helvetica,sans-Serif\" font-size=\"14.00\">alcohol &lt;= 10.75</text>\n",
       "<text text-anchor=\"middle\" x=\"576\" y=\"-490.3\" font-family=\"Helvetica,sans-Serif\" font-size=\"14.00\">gini = 0.414</text>\n",
       "<text text-anchor=\"middle\" x=\"576\" y=\"-475.3\" font-family=\"Helvetica,sans-Serif\" font-size=\"14.00\">samples = 2370</text>\n",
       "<text text-anchor=\"middle\" x=\"576\" y=\"-460.3\" font-family=\"Helvetica,sans-Serif\" font-size=\"14.00\">value = [1677, 693]</text>\n",
       "</g>\n",
       "<!-- 1 -->\n",
       "<g id=\"node2\" class=\"node\"><title>1</title>\n",
       "<path fill=\"#e58139\" fill-opacity=\"0.274510\" stroke=\"black\" d=\"M519,-416.5C519,-416.5 385,-416.5 385,-416.5 379,-416.5 373,-410.5 373,-404.5 373,-404.5 373,-345.5 373,-345.5 373,-339.5 379,-333.5 385,-333.5 385,-333.5 519,-333.5 519,-333.5 525,-333.5 531,-339.5 531,-345.5 531,-345.5 531,-404.5 531,-404.5 531,-410.5 525,-416.5 519,-416.5\"/>\n",
       "<text text-anchor=\"middle\" x=\"452\" y=\"-401.3\" font-family=\"Helvetica,sans-Serif\" font-size=\"14.00\">node #1</text>\n",
       "<text text-anchor=\"middle\" x=\"452\" y=\"-386.3\" font-family=\"Helvetica,sans-Serif\" font-size=\"14.00\">volatile acidity &lt;= 0.237</text>\n",
       "<text text-anchor=\"middle\" x=\"452\" y=\"-371.3\" font-family=\"Helvetica,sans-Serif\" font-size=\"14.00\">gini = 0.487</text>\n",
       "<text text-anchor=\"middle\" x=\"452\" y=\"-356.3\" font-family=\"Helvetica,sans-Serif\" font-size=\"14.00\">samples = 1343</text>\n",
       "<text text-anchor=\"middle\" x=\"452\" y=\"-341.3\" font-family=\"Helvetica,sans-Serif\" font-size=\"14.00\">value = [779, 564]</text>\n",
       "</g>\n",
       "<!-- 0&#45;&gt;1 -->\n",
       "<g id=\"edge1\" class=\"edge\"><title>0&#45;&gt;1</title>\n",
       "<path fill=\"none\" stroke=\"black\" d=\"M532.979,-452.407C523.072,-443.06 512.45,-433.038 502.266,-423.429\"/>\n",
       "<polygon fill=\"black\" stroke=\"black\" points=\"504.621,-420.838 494.945,-416.521 499.817,-425.929 504.621,-420.838\"/>\n",
       "<text text-anchor=\"middle\" x=\"495.671\" y=\"-437.81\" font-family=\"Helvetica,sans-Serif\" font-size=\"14.00\">True</text>\n",
       "</g>\n",
       "<!-- 532 -->\n",
       "<g id=\"node17\" class=\"node\"><title>532</title>\n",
       "<path fill=\"#e58139\" fill-opacity=\"0.854902\" stroke=\"black\" d=\"M771,-416.5C771,-416.5 629,-416.5 629,-416.5 623,-416.5 617,-410.5 617,-404.5 617,-404.5 617,-345.5 617,-345.5 617,-339.5 623,-333.5 629,-333.5 629,-333.5 771,-333.5 771,-333.5 777,-333.5 783,-339.5 783,-345.5 783,-345.5 783,-404.5 783,-404.5 783,-410.5 777,-416.5 771,-416.5\"/>\n",
       "<text text-anchor=\"middle\" x=\"700\" y=\"-401.3\" font-family=\"Helvetica,sans-Serif\" font-size=\"14.00\">node #532</text>\n",
       "<text text-anchor=\"middle\" x=\"700\" y=\"-386.3\" font-family=\"Helvetica,sans-Serif\" font-size=\"14.00\">free sulfur dioxide &lt;= 7.5</text>\n",
       "<text text-anchor=\"middle\" x=\"700\" y=\"-371.3\" font-family=\"Helvetica,sans-Serif\" font-size=\"14.00\">gini = 0.22</text>\n",
       "<text text-anchor=\"middle\" x=\"700\" y=\"-356.3\" font-family=\"Helvetica,sans-Serif\" font-size=\"14.00\">samples = 1027</text>\n",
       "<text text-anchor=\"middle\" x=\"700\" y=\"-341.3\" font-family=\"Helvetica,sans-Serif\" font-size=\"14.00\">value = [898, 129]</text>\n",
       "</g>\n",
       "<!-- 0&#45;&gt;532 -->\n",
       "<g id=\"edge16\" class=\"edge\"><title>0&#45;&gt;532</title>\n",
       "<path fill=\"none\" stroke=\"black\" d=\"M619.021,-452.407C628.928,-443.06 639.55,-433.038 649.734,-423.429\"/>\n",
       "<polygon fill=\"black\" stroke=\"black\" points=\"652.183,-425.929 657.055,-416.521 647.379,-420.838 652.183,-425.929\"/>\n",
       "<text text-anchor=\"middle\" x=\"656.329\" y=\"-437.81\" font-family=\"Helvetica,sans-Serif\" font-size=\"14.00\">False</text>\n",
       "</g>\n",
       "<!-- 2 -->\n",
       "<g id=\"node3\" class=\"node\"><title>2</title>\n",
       "<path fill=\"#e58139\" fill-opacity=\"0.713725\" stroke=\"black\" d=\"M290.5,-297.5C290.5,-297.5 141.5,-297.5 141.5,-297.5 135.5,-297.5 129.5,-291.5 129.5,-285.5 129.5,-285.5 129.5,-226.5 129.5,-226.5 129.5,-220.5 135.5,-214.5 141.5,-214.5 141.5,-214.5 290.5,-214.5 290.5,-214.5 296.5,-214.5 302.5,-220.5 302.5,-226.5 302.5,-226.5 302.5,-285.5 302.5,-285.5 302.5,-291.5 296.5,-297.5 290.5,-297.5\"/>\n",
       "<text text-anchor=\"middle\" x=\"216\" y=\"-282.3\" font-family=\"Helvetica,sans-Serif\" font-size=\"14.00\">node #2</text>\n",
       "<text text-anchor=\"middle\" x=\"216\" y=\"-267.3\" font-family=\"Helvetica,sans-Serif\" font-size=\"14.00\">free sulfur dioxide &lt;= 11.5</text>\n",
       "<text text-anchor=\"middle\" x=\"216\" y=\"-252.3\" font-family=\"Helvetica,sans-Serif\" font-size=\"14.00\">gini = 0.346</text>\n",
       "<text text-anchor=\"middle\" x=\"216\" y=\"-237.3\" font-family=\"Helvetica,sans-Serif\" font-size=\"14.00\">samples = 525</text>\n",
       "<text text-anchor=\"middle\" x=\"216\" y=\"-222.3\" font-family=\"Helvetica,sans-Serif\" font-size=\"14.00\">value = [408, 117]</text>\n",
       "</g>\n",
       "<!-- 1&#45;&gt;2 -->\n",
       "<g id=\"edge2\" class=\"edge\"><title>1&#45;&gt;2</title>\n",
       "<path fill=\"none\" stroke=\"black\" d=\"M372.759,-334.715C351.669,-324.259 328.72,-312.882 307.052,-302.14\"/>\n",
       "<polygon fill=\"black\" stroke=\"black\" points=\"308.367,-298.886 297.853,-297.58 305.258,-305.157 308.367,-298.886\"/>\n",
       "</g>\n",
       "<!-- 171 -->\n",
       "<g id=\"node10\" class=\"node\"><title>171</title>\n",
       "<path fill=\"#399de5\" fill-opacity=\"0.168627\" stroke=\"black\" d=\"M502.5,-297.5C502.5,-297.5 401.5,-297.5 401.5,-297.5 395.5,-297.5 389.5,-291.5 389.5,-285.5 389.5,-285.5 389.5,-226.5 389.5,-226.5 389.5,-220.5 395.5,-214.5 401.5,-214.5 401.5,-214.5 502.5,-214.5 502.5,-214.5 508.5,-214.5 514.5,-220.5 514.5,-226.5 514.5,-226.5 514.5,-285.5 514.5,-285.5 514.5,-291.5 508.5,-297.5 502.5,-297.5\"/>\n",
       "<text text-anchor=\"middle\" x=\"452\" y=\"-282.3\" font-family=\"Helvetica,sans-Serif\" font-size=\"14.00\">node #171</text>\n",
       "<text text-anchor=\"middle\" x=\"452\" y=\"-267.3\" font-family=\"Helvetica,sans-Serif\" font-size=\"14.00\">alcohol &lt;= 9.517</text>\n",
       "<text text-anchor=\"middle\" x=\"452\" y=\"-252.3\" font-family=\"Helvetica,sans-Serif\" font-size=\"14.00\">gini = 0.496</text>\n",
       "<text text-anchor=\"middle\" x=\"452\" y=\"-237.3\" font-family=\"Helvetica,sans-Serif\" font-size=\"14.00\">samples = 818</text>\n",
       "<text text-anchor=\"middle\" x=\"452\" y=\"-222.3\" font-family=\"Helvetica,sans-Serif\" font-size=\"14.00\">value = [371, 447]</text>\n",
       "</g>\n",
       "<!-- 1&#45;&gt;171 -->\n",
       "<g id=\"edge9\" class=\"edge\"><title>1&#45;&gt;171</title>\n",
       "<path fill=\"none\" stroke=\"black\" d=\"M452,-333.407C452,-325.149 452,-316.364 452,-307.802\"/>\n",
       "<polygon fill=\"black\" stroke=\"black\" points=\"455.5,-307.521 452,-297.521 448.5,-307.521 455.5,-307.521\"/>\n",
       "</g>\n",
       "<!-- 3 -->\n",
       "<g id=\"node4\" class=\"node\"><title>3</title>\n",
       "<path fill=\"#399de5\" fill-opacity=\"0.584314\" stroke=\"black\" d=\"M123,-178.5C123,-178.5 45,-178.5 45,-178.5 39,-178.5 33,-172.5 33,-166.5 33,-166.5 33,-107.5 33,-107.5 33,-101.5 39,-95.5 45,-95.5 45,-95.5 123,-95.5 123,-95.5 129,-95.5 135,-101.5 135,-107.5 135,-107.5 135,-166.5 135,-166.5 135,-172.5 129,-178.5 123,-178.5\"/>\n",
       "<text text-anchor=\"middle\" x=\"84\" y=\"-163.3\" font-family=\"Helvetica,sans-Serif\" font-size=\"14.00\">node #3</text>\n",
       "<text text-anchor=\"middle\" x=\"84\" y=\"-148.3\" font-family=\"Helvetica,sans-Serif\" font-size=\"14.00\">alcohol &lt;= 9.7</text>\n",
       "<text text-anchor=\"middle\" x=\"84\" y=\"-133.3\" font-family=\"Helvetica,sans-Serif\" font-size=\"14.00\">gini = 0.415</text>\n",
       "<text text-anchor=\"middle\" x=\"84\" y=\"-118.3\" font-family=\"Helvetica,sans-Serif\" font-size=\"14.00\">samples = 17</text>\n",
       "<text text-anchor=\"middle\" x=\"84\" y=\"-103.3\" font-family=\"Helvetica,sans-Serif\" font-size=\"14.00\">value = [5, 12]</text>\n",
       "</g>\n",
       "<!-- 2&#45;&gt;3 -->\n",
       "<g id=\"edge3\" class=\"edge\"><title>2&#45;&gt;3</title>\n",
       "<path fill=\"none\" stroke=\"black\" d=\"M170.203,-214.407C159.658,-205.06 148.35,-195.038 137.509,-185.429\"/>\n",
       "<polygon fill=\"black\" stroke=\"black\" points=\"139.521,-182.535 129.716,-178.521 134.878,-187.773 139.521,-182.535\"/>\n",
       "</g>\n",
       "<!-- 10 -->\n",
       "<g id=\"node7\" class=\"node\"><title>10</title>\n",
       "<path fill=\"#e58139\" fill-opacity=\"0.741176\" stroke=\"black\" d=\"M266.5,-178.5C266.5,-178.5 165.5,-178.5 165.5,-178.5 159.5,-178.5 153.5,-172.5 153.5,-166.5 153.5,-166.5 153.5,-107.5 153.5,-107.5 153.5,-101.5 159.5,-95.5 165.5,-95.5 165.5,-95.5 266.5,-95.5 266.5,-95.5 272.5,-95.5 278.5,-101.5 278.5,-107.5 278.5,-107.5 278.5,-166.5 278.5,-166.5 278.5,-172.5 272.5,-178.5 266.5,-178.5\"/>\n",
       "<text text-anchor=\"middle\" x=\"216\" y=\"-163.3\" font-family=\"Helvetica,sans-Serif\" font-size=\"14.00\">node #10</text>\n",
       "<text text-anchor=\"middle\" x=\"216\" y=\"-148.3\" font-family=\"Helvetica,sans-Serif\" font-size=\"14.00\">pH &lt;= 2.875</text>\n",
       "<text text-anchor=\"middle\" x=\"216\" y=\"-133.3\" font-family=\"Helvetica,sans-Serif\" font-size=\"14.00\">gini = 0.328</text>\n",
       "<text text-anchor=\"middle\" x=\"216\" y=\"-118.3\" font-family=\"Helvetica,sans-Serif\" font-size=\"14.00\">samples = 508</text>\n",
       "<text text-anchor=\"middle\" x=\"216\" y=\"-103.3\" font-family=\"Helvetica,sans-Serif\" font-size=\"14.00\">value = [403, 105]</text>\n",
       "</g>\n",
       "<!-- 2&#45;&gt;10 -->\n",
       "<g id=\"edge6\" class=\"edge\"><title>2&#45;&gt;10</title>\n",
       "<path fill=\"none\" stroke=\"black\" d=\"M216,-214.407C216,-206.149 216,-197.364 216,-188.802\"/>\n",
       "<polygon fill=\"black\" stroke=\"black\" points=\"219.5,-188.521 216,-178.521 212.5,-188.521 219.5,-188.521\"/>\n",
       "</g>\n",
       "<!-- 4 -->\n",
       "<g id=\"node5\" class=\"node\"><title>4</title>\n",
       "<path fill=\"#c0c0c0\" stroke=\"black\" d=\"M42,-36C42,-36 12,-36 12,-36 6,-36 0,-30 0,-24 0,-24 0,-12 0,-12 0,-6 6,-0 12,-0 12,-0 42,-0 42,-0 48,-0 54,-6 54,-12 54,-12 54,-24 54,-24 54,-30 48,-36 42,-36\"/>\n",
       "<text text-anchor=\"middle\" x=\"27\" y=\"-14.3\" font-family=\"Helvetica,sans-Serif\" font-size=\"14.00\">(...)</text>\n",
       "</g>\n",
       "<!-- 3&#45;&gt;4 -->\n",
       "<g id=\"edge4\" class=\"edge\"><title>3&#45;&gt;4</title>\n",
       "<path fill=\"none\" stroke=\"black\" d=\"M64.2241,-95.4074C56.1002,-78.7319 46.9295,-59.908 39.7235,-45.1167\"/>\n",
       "<polygon fill=\"black\" stroke=\"black\" points=\"42.8288,-43.4991 35.3026,-36.0421 36.5359,-46.565 42.8288,-43.4991\"/>\n",
       "</g>\n",
       "<!-- 5 -->\n",
       "<g id=\"node6\" class=\"node\"><title>5</title>\n",
       "<path fill=\"#c0c0c0\" stroke=\"black\" d=\"M114,-36C114,-36 84,-36 84,-36 78,-36 72,-30 72,-24 72,-24 72,-12 72,-12 72,-6 78,-0 84,-0 84,-0 114,-0 114,-0 120,-0 126,-6 126,-12 126,-12 126,-24 126,-24 126,-30 120,-36 114,-36\"/>\n",
       "<text text-anchor=\"middle\" x=\"99\" y=\"-14.3\" font-family=\"Helvetica,sans-Serif\" font-size=\"14.00\">(...)</text>\n",
       "</g>\n",
       "<!-- 3&#45;&gt;5 -->\n",
       "<g id=\"edge5\" class=\"edge\"><title>3&#45;&gt;5</title>\n",
       "<path fill=\"none\" stroke=\"black\" d=\"M89.2042,-95.4074C91.3013,-79.0496 93.6635,-60.6243 95.5428,-45.9663\"/>\n",
       "<polygon fill=\"black\" stroke=\"black\" points=\"99.015,-46.4061 96.8151,-36.0421 92.0718,-45.5159 99.015,-46.4061\"/>\n",
       "</g>\n",
       "<!-- 11 -->\n",
       "<g id=\"node8\" class=\"node\"><title>11</title>\n",
       "<path fill=\"#c0c0c0\" stroke=\"black\" d=\"M216,-36C216,-36 186,-36 186,-36 180,-36 174,-30 174,-24 174,-24 174,-12 174,-12 174,-6 180,-0 186,-0 186,-0 216,-0 216,-0 222,-0 228,-6 228,-12 228,-12 228,-24 228,-24 228,-30 222,-36 216,-36\"/>\n",
       "<text text-anchor=\"middle\" x=\"201\" y=\"-14.3\" font-family=\"Helvetica,sans-Serif\" font-size=\"14.00\">(...)</text>\n",
       "</g>\n",
       "<!-- 10&#45;&gt;11 -->\n",
       "<g id=\"edge7\" class=\"edge\"><title>10&#45;&gt;11</title>\n",
       "<path fill=\"none\" stroke=\"black\" d=\"M210.796,-95.4074C208.699,-79.0496 206.336,-60.6243 204.457,-45.9663\"/>\n",
       "<polygon fill=\"black\" stroke=\"black\" points=\"207.928,-45.5159 203.185,-36.0421 200.985,-46.4061 207.928,-45.5159\"/>\n",
       "</g>\n",
       "<!-- 14 -->\n",
       "<g id=\"node9\" class=\"node\"><title>14</title>\n",
       "<path fill=\"#c0c0c0\" stroke=\"black\" d=\"M288,-36C288,-36 258,-36 258,-36 252,-36 246,-30 246,-24 246,-24 246,-12 246,-12 246,-6 252,-0 258,-0 258,-0 288,-0 288,-0 294,-0 300,-6 300,-12 300,-12 300,-24 300,-24 300,-30 294,-36 288,-36\"/>\n",
       "<text text-anchor=\"middle\" x=\"273\" y=\"-14.3\" font-family=\"Helvetica,sans-Serif\" font-size=\"14.00\">(...)</text>\n",
       "</g>\n",
       "<!-- 10&#45;&gt;14 -->\n",
       "<g id=\"edge8\" class=\"edge\"><title>10&#45;&gt;14</title>\n",
       "<path fill=\"none\" stroke=\"black\" d=\"M235.776,-95.4074C243.9,-78.7319 253.07,-59.908 260.276,-45.1167\"/>\n",
       "<polygon fill=\"black\" stroke=\"black\" points=\"263.464,-46.565 264.697,-36.0421 257.171,-43.4991 263.464,-46.565\"/>\n",
       "</g>\n",
       "<!-- 172 -->\n",
       "<g id=\"node11\" class=\"node\"><title>172</title>\n",
       "<path fill=\"#399de5\" fill-opacity=\"0.490196\" stroke=\"black\" d=\"M442,-178.5C442,-178.5 308,-178.5 308,-178.5 302,-178.5 296,-172.5 296,-166.5 296,-166.5 296,-107.5 296,-107.5 296,-101.5 302,-95.5 308,-95.5 308,-95.5 442,-95.5 442,-95.5 448,-95.5 454,-101.5 454,-107.5 454,-107.5 454,-166.5 454,-166.5 454,-172.5 448,-178.5 442,-178.5\"/>\n",
       "<text text-anchor=\"middle\" x=\"375\" y=\"-163.3\" font-family=\"Helvetica,sans-Serif\" font-size=\"14.00\">node #172</text>\n",
       "<text text-anchor=\"middle\" x=\"375\" y=\"-148.3\" font-family=\"Helvetica,sans-Serif\" font-size=\"14.00\">volatile acidity &lt;= 0.303</text>\n",
       "<text text-anchor=\"middle\" x=\"375\" y=\"-133.3\" font-family=\"Helvetica,sans-Serif\" font-size=\"14.00\">gini = 0.447</text>\n",
       "<text text-anchor=\"middle\" x=\"375\" y=\"-118.3\" font-family=\"Helvetica,sans-Serif\" font-size=\"14.00\">samples = 403</text>\n",
       "<text text-anchor=\"middle\" x=\"375\" y=\"-103.3\" font-family=\"Helvetica,sans-Serif\" font-size=\"14.00\">value = [136, 267]</text>\n",
       "</g>\n",
       "<!-- 171&#45;&gt;172 -->\n",
       "<g id=\"edge10\" class=\"edge\"><title>171&#45;&gt;172</title>\n",
       "<path fill=\"none\" stroke=\"black\" d=\"M425.285,-214.407C419.492,-205.605 413.305,-196.203 407.322,-187.112\"/>\n",
       "<polygon fill=\"black\" stroke=\"black\" points=\"410.089,-184.95 401.668,-178.521 404.241,-188.798 410.089,-184.95\"/>\n",
       "</g>\n",
       "<!-- 345 -->\n",
       "<g id=\"node14\" class=\"node\"><title>345</title>\n",
       "<path fill=\"#e58139\" fill-opacity=\"0.235294\" stroke=\"black\" d=\"M588,-178.5C588,-178.5 484,-178.5 484,-178.5 478,-178.5 472,-172.5 472,-166.5 472,-166.5 472,-107.5 472,-107.5 472,-101.5 478,-95.5 484,-95.5 484,-95.5 588,-95.5 588,-95.5 594,-95.5 600,-101.5 600,-107.5 600,-107.5 600,-166.5 600,-166.5 600,-172.5 594,-178.5 588,-178.5\"/>\n",
       "<text text-anchor=\"middle\" x=\"536\" y=\"-163.3\" font-family=\"Helvetica,sans-Serif\" font-size=\"14.00\">node #345</text>\n",
       "<text text-anchor=\"middle\" x=\"536\" y=\"-148.3\" font-family=\"Helvetica,sans-Serif\" font-size=\"14.00\">chlorides &lt;= 0.045</text>\n",
       "<text text-anchor=\"middle\" x=\"536\" y=\"-133.3\" font-family=\"Helvetica,sans-Serif\" font-size=\"14.00\">gini = 0.491</text>\n",
       "<text text-anchor=\"middle\" x=\"536\" y=\"-118.3\" font-family=\"Helvetica,sans-Serif\" font-size=\"14.00\">samples = 415</text>\n",
       "<text text-anchor=\"middle\" x=\"536\" y=\"-103.3\" font-family=\"Helvetica,sans-Serif\" font-size=\"14.00\">value = [235, 180]</text>\n",
       "</g>\n",
       "<!-- 171&#45;&gt;345 -->\n",
       "<g id=\"edge13\" class=\"edge\"><title>171&#45;&gt;345</title>\n",
       "<path fill=\"none\" stroke=\"black\" d=\"M481.143,-214.407C487.529,-205.514 494.352,-196.009 500.942,-186.831\"/>\n",
       "<polygon fill=\"black\" stroke=\"black\" points=\"503.919,-188.685 506.908,-178.521 498.233,-184.603 503.919,-188.685\"/>\n",
       "</g>\n",
       "<!-- 173 -->\n",
       "<g id=\"node12\" class=\"node\"><title>173</title>\n",
       "<path fill=\"#c0c0c0\" stroke=\"black\" d=\"M367,-36C367,-36 337,-36 337,-36 331,-36 325,-30 325,-24 325,-24 325,-12 325,-12 325,-6 331,-0 337,-0 337,-0 367,-0 367,-0 373,-0 379,-6 379,-12 379,-12 379,-24 379,-24 379,-30 373,-36 367,-36\"/>\n",
       "<text text-anchor=\"middle\" x=\"352\" y=\"-14.3\" font-family=\"Helvetica,sans-Serif\" font-size=\"14.00\">(...)</text>\n",
       "</g>\n",
       "<!-- 172&#45;&gt;173 -->\n",
       "<g id=\"edge11\" class=\"edge\"><title>172&#45;&gt;173</title>\n",
       "<path fill=\"none\" stroke=\"black\" d=\"M367.02,-95.4074C363.805,-79.0496 360.183,-60.6243 357.301,-45.9663\"/>\n",
       "<polygon fill=\"black\" stroke=\"black\" points=\"360.713,-45.1792 355.35,-36.0421 353.845,-46.5295 360.713,-45.1792\"/>\n",
       "</g>\n",
       "<!-- 288 -->\n",
       "<g id=\"node13\" class=\"node\"><title>288</title>\n",
       "<path fill=\"#c0c0c0\" stroke=\"black\" d=\"M439,-36C439,-36 409,-36 409,-36 403,-36 397,-30 397,-24 397,-24 397,-12 397,-12 397,-6 403,-0 409,-0 409,-0 439,-0 439,-0 445,-0 451,-6 451,-12 451,-12 451,-24 451,-24 451,-30 445,-36 439,-36\"/>\n",
       "<text text-anchor=\"middle\" x=\"424\" y=\"-14.3\" font-family=\"Helvetica,sans-Serif\" font-size=\"14.00\">(...)</text>\n",
       "</g>\n",
       "<!-- 172&#45;&gt;288 -->\n",
       "<g id=\"edge12\" class=\"edge\"><title>172&#45;&gt;288</title>\n",
       "<path fill=\"none\" stroke=\"black\" d=\"M392,-95.4074C398.918,-78.8907 406.718,-60.2664 412.885,-45.5404\"/>\n",
       "<polygon fill=\"black\" stroke=\"black\" points=\"416.228,-46.618 416.863,-36.0421 409.771,-43.9139 416.228,-46.618\"/>\n",
       "</g>\n",
       "<!-- 346 -->\n",
       "<g id=\"node15\" class=\"node\"><title>346</title>\n",
       "<path fill=\"#c0c0c0\" stroke=\"black\" d=\"M523,-36C523,-36 493,-36 493,-36 487,-36 481,-30 481,-24 481,-24 481,-12 481,-12 481,-6 487,-0 493,-0 493,-0 523,-0 523,-0 529,-0 535,-6 535,-12 535,-12 535,-24 535,-24 535,-30 529,-36 523,-36\"/>\n",
       "<text text-anchor=\"middle\" x=\"508\" y=\"-14.3\" font-family=\"Helvetica,sans-Serif\" font-size=\"14.00\">(...)</text>\n",
       "</g>\n",
       "<!-- 345&#45;&gt;346 -->\n",
       "<g id=\"edge14\" class=\"edge\"><title>345&#45;&gt;346</title>\n",
       "<path fill=\"none\" stroke=\"black\" d=\"M526.286,-95.4074C522.371,-79.0496 517.961,-60.6243 514.453,-45.9663\"/>\n",
       "<polygon fill=\"black\" stroke=\"black\" points=\"517.81,-44.9529 512.078,-36.0421 511.002,-46.5822 517.81,-44.9529\"/>\n",
       "</g>\n",
       "<!-- 435 -->\n",
       "<g id=\"node16\" class=\"node\"><title>435</title>\n",
       "<path fill=\"#c0c0c0\" stroke=\"black\" d=\"M595,-36C595,-36 565,-36 565,-36 559,-36 553,-30 553,-24 553,-24 553,-12 553,-12 553,-6 559,-0 565,-0 565,-0 595,-0 595,-0 601,-0 607,-6 607,-12 607,-12 607,-24 607,-24 607,-30 601,-36 595,-36\"/>\n",
       "<text text-anchor=\"middle\" x=\"580\" y=\"-14.3\" font-family=\"Helvetica,sans-Serif\" font-size=\"14.00\">(...)</text>\n",
       "</g>\n",
       "<!-- 345&#45;&gt;435 -->\n",
       "<g id=\"edge15\" class=\"edge\"><title>345&#45;&gt;435</title>\n",
       "<path fill=\"none\" stroke=\"black\" d=\"M551.266,-95.4074C557.477,-78.8907 564.481,-60.2664 570.019,-45.5404\"/>\n",
       "<polygon fill=\"black\" stroke=\"black\" points=\"573.347,-46.6342 573.591,-36.0421 566.795,-44.1701 573.347,-46.6342\"/>\n",
       "</g>\n",
       "<!-- 533 -->\n",
       "<g id=\"node18\" class=\"node\"><title>533</title>\n",
       "<path fill=\"#399de5\" fill-opacity=\"0.521569\" stroke=\"black\" d=\"M752,-297.5C752,-297.5 648,-297.5 648,-297.5 642,-297.5 636,-291.5 636,-285.5 636,-285.5 636,-226.5 636,-226.5 636,-220.5 642,-214.5 648,-214.5 648,-214.5 752,-214.5 752,-214.5 758,-214.5 764,-220.5 764,-226.5 764,-226.5 764,-285.5 764,-285.5 764,-291.5 758,-297.5 752,-297.5\"/>\n",
       "<text text-anchor=\"middle\" x=\"700\" y=\"-282.3\" font-family=\"Helvetica,sans-Serif\" font-size=\"14.00\">node #533</text>\n",
       "<text text-anchor=\"middle\" x=\"700\" y=\"-267.3\" font-family=\"Helvetica,sans-Serif\" font-size=\"14.00\">chlorides &lt;= 0.046</text>\n",
       "<text text-anchor=\"middle\" x=\"700\" y=\"-252.3\" font-family=\"Helvetica,sans-Serif\" font-size=\"14.00\">gini = 0.438</text>\n",
       "<text text-anchor=\"middle\" x=\"700\" y=\"-237.3\" font-family=\"Helvetica,sans-Serif\" font-size=\"14.00\">samples = 34</text>\n",
       "<text text-anchor=\"middle\" x=\"700\" y=\"-222.3\" font-family=\"Helvetica,sans-Serif\" font-size=\"14.00\">value = [11, 23]</text>\n",
       "</g>\n",
       "<!-- 532&#45;&gt;533 -->\n",
       "<g id=\"edge17\" class=\"edge\"><title>532&#45;&gt;533</title>\n",
       "<path fill=\"none\" stroke=\"black\" d=\"M700,-333.407C700,-325.149 700,-316.364 700,-307.802\"/>\n",
       "<polygon fill=\"black\" stroke=\"black\" points=\"703.5,-307.521 700,-297.521 696.5,-307.521 703.5,-307.521\"/>\n",
       "</g>\n",
       "<!-- 546 -->\n",
       "<g id=\"node25\" class=\"node\"><title>546</title>\n",
       "<path fill=\"#e58139\" fill-opacity=\"0.882353\" stroke=\"black\" d=\"M1026.5,-297.5C1026.5,-297.5 925.5,-297.5 925.5,-297.5 919.5,-297.5 913.5,-291.5 913.5,-285.5 913.5,-285.5 913.5,-226.5 913.5,-226.5 913.5,-220.5 919.5,-214.5 925.5,-214.5 925.5,-214.5 1026.5,-214.5 1026.5,-214.5 1032.5,-214.5 1038.5,-220.5 1038.5,-226.5 1038.5,-226.5 1038.5,-285.5 1038.5,-285.5 1038.5,-291.5 1032.5,-297.5 1026.5,-297.5\"/>\n",
       "<text text-anchor=\"middle\" x=\"976\" y=\"-282.3\" font-family=\"Helvetica,sans-Serif\" font-size=\"14.00\">node #546</text>\n",
       "<text text-anchor=\"middle\" x=\"976\" y=\"-267.3\" font-family=\"Helvetica,sans-Serif\" font-size=\"14.00\">alcohol &lt;= 12.033</text>\n",
       "<text text-anchor=\"middle\" x=\"976\" y=\"-252.3\" font-family=\"Helvetica,sans-Serif\" font-size=\"14.00\">gini = 0.191</text>\n",
       "<text text-anchor=\"middle\" x=\"976\" y=\"-237.3\" font-family=\"Helvetica,sans-Serif\" font-size=\"14.00\">samples = 993</text>\n",
       "<text text-anchor=\"middle\" x=\"976\" y=\"-222.3\" font-family=\"Helvetica,sans-Serif\" font-size=\"14.00\">value = [887, 106]</text>\n",
       "</g>\n",
       "<!-- 532&#45;&gt;546 -->\n",
       "<g id=\"edge24\" class=\"edge\"><title>532&#45;&gt;546</title>\n",
       "<path fill=\"none\" stroke=\"black\" d=\"M783.183,-338.737C821.666,-322.424 866.94,-303.232 903.944,-287.546\"/>\n",
       "<polygon fill=\"black\" stroke=\"black\" points=\"905.323,-290.762 913.164,-283.637 902.591,-284.317 905.323,-290.762\"/>\n",
       "</g>\n",
       "<!-- 534 -->\n",
       "<g id=\"node19\" class=\"node\"><title>534</title>\n",
       "<path fill=\"#399de5\" fill-opacity=\"0.713725\" stroke=\"black\" d=\"M738,-178.5C738,-178.5 630,-178.5 630,-178.5 624,-178.5 618,-172.5 618,-166.5 618,-166.5 618,-107.5 618,-107.5 618,-101.5 624,-95.5 630,-95.5 630,-95.5 738,-95.5 738,-95.5 744,-95.5 750,-101.5 750,-107.5 750,-107.5 750,-166.5 750,-166.5 750,-172.5 744,-178.5 738,-178.5\"/>\n",
       "<text text-anchor=\"middle\" x=\"684\" y=\"-163.3\" font-family=\"Helvetica,sans-Serif\" font-size=\"14.00\">node #534</text>\n",
       "<text text-anchor=\"middle\" x=\"684\" y=\"-148.3\" font-family=\"Helvetica,sans-Serif\" font-size=\"14.00\">sulphates &lt;= 0.535</text>\n",
       "<text text-anchor=\"middle\" x=\"684\" y=\"-133.3\" font-family=\"Helvetica,sans-Serif\" font-size=\"14.00\">gini = 0.346</text>\n",
       "<text text-anchor=\"middle\" x=\"684\" y=\"-118.3\" font-family=\"Helvetica,sans-Serif\" font-size=\"14.00\">samples = 27</text>\n",
       "<text text-anchor=\"middle\" x=\"684\" y=\"-103.3\" font-family=\"Helvetica,sans-Serif\" font-size=\"14.00\">value = [6, 21]</text>\n",
       "</g>\n",
       "<!-- 533&#45;&gt;534 -->\n",
       "<g id=\"edge18\" class=\"edge\"><title>533&#45;&gt;534</title>\n",
       "<path fill=\"none\" stroke=\"black\" d=\"M694.449,-214.407C693.307,-206.058 692.092,-197.171 690.909,-188.52\"/>\n",
       "<polygon fill=\"black\" stroke=\"black\" points=\"694.364,-187.954 689.541,-178.521 687.429,-188.903 694.364,-187.954\"/>\n",
       "</g>\n",
       "<!-- 543 -->\n",
       "<g id=\"node22\" class=\"node\"><title>543</title>\n",
       "<path fill=\"#e58139\" fill-opacity=\"0.600000\" stroke=\"black\" d=\"M877.5,-178.5C877.5,-178.5 780.5,-178.5 780.5,-178.5 774.5,-178.5 768.5,-172.5 768.5,-166.5 768.5,-166.5 768.5,-107.5 768.5,-107.5 768.5,-101.5 774.5,-95.5 780.5,-95.5 780.5,-95.5 877.5,-95.5 877.5,-95.5 883.5,-95.5 889.5,-101.5 889.5,-107.5 889.5,-107.5 889.5,-166.5 889.5,-166.5 889.5,-172.5 883.5,-178.5 877.5,-178.5\"/>\n",
       "<text text-anchor=\"middle\" x=\"829\" y=\"-163.3\" font-family=\"Helvetica,sans-Serif\" font-size=\"14.00\">node #543</text>\n",
       "<text text-anchor=\"middle\" x=\"829\" y=\"-148.3\" font-family=\"Helvetica,sans-Serif\" font-size=\"14.00\">chlorides &lt;= 0.05</text>\n",
       "<text text-anchor=\"middle\" x=\"829\" y=\"-133.3\" font-family=\"Helvetica,sans-Serif\" font-size=\"14.00\">gini = 0.408</text>\n",
       "<text text-anchor=\"middle\" x=\"829\" y=\"-118.3\" font-family=\"Helvetica,sans-Serif\" font-size=\"14.00\">samples = 7</text>\n",
       "<text text-anchor=\"middle\" x=\"829\" y=\"-103.3\" font-family=\"Helvetica,sans-Serif\" font-size=\"14.00\">value = [5, 2]</text>\n",
       "</g>\n",
       "<!-- 533&#45;&gt;543 -->\n",
       "<g id=\"edge21\" class=\"edge\"><title>533&#45;&gt;543</title>\n",
       "<path fill=\"none\" stroke=\"black\" d=\"M744.756,-214.407C755.062,-205.06 766.112,-195.038 776.707,-185.429\"/>\n",
       "<polygon fill=\"black\" stroke=\"black\" points=\"779.267,-187.832 784.323,-178.521 774.565,-182.646 779.267,-187.832\"/>\n",
       "</g>\n",
       "<!-- 535 -->\n",
       "<g id=\"node20\" class=\"node\"><title>535</title>\n",
       "<path fill=\"#c0c0c0\" stroke=\"black\" d=\"M675,-36C675,-36 645,-36 645,-36 639,-36 633,-30 633,-24 633,-24 633,-12 633,-12 633,-6 639,-0 645,-0 645,-0 675,-0 675,-0 681,-0 687,-6 687,-12 687,-12 687,-24 687,-24 687,-30 681,-36 675,-36\"/>\n",
       "<text text-anchor=\"middle\" x=\"660\" y=\"-14.3\" font-family=\"Helvetica,sans-Serif\" font-size=\"14.00\">(...)</text>\n",
       "</g>\n",
       "<!-- 534&#45;&gt;535 -->\n",
       "<g id=\"edge19\" class=\"edge\"><title>534&#45;&gt;535</title>\n",
       "<path fill=\"none\" stroke=\"black\" d=\"M675.673,-95.4074C672.318,-79.0496 668.538,-60.6243 665.532,-45.9663\"/>\n",
       "<polygon fill=\"black\" stroke=\"black\" points=\"668.934,-45.1348 663.496,-36.0421 662.077,-46.5415 668.934,-45.1348\"/>\n",
       "</g>\n",
       "<!-- 542 -->\n",
       "<g id=\"node21\" class=\"node\"><title>542</title>\n",
       "<path fill=\"#c0c0c0\" stroke=\"black\" d=\"M747,-36C747,-36 717,-36 717,-36 711,-36 705,-30 705,-24 705,-24 705,-12 705,-12 705,-6 711,-0 717,-0 717,-0 747,-0 747,-0 753,-0 759,-6 759,-12 759,-12 759,-24 759,-24 759,-30 753,-36 747,-36\"/>\n",
       "<text text-anchor=\"middle\" x=\"732\" y=\"-14.3\" font-family=\"Helvetica,sans-Serif\" font-size=\"14.00\">(...)</text>\n",
       "</g>\n",
       "<!-- 534&#45;&gt;542 -->\n",
       "<g id=\"edge20\" class=\"edge\"><title>534&#45;&gt;542</title>\n",
       "<path fill=\"none\" stroke=\"black\" d=\"M700.653,-95.4074C707.429,-78.8907 715.07,-60.2664 721.112,-45.5404\"/>\n",
       "<polygon fill=\"black\" stroke=\"black\" points=\"724.451,-46.6223 725.008,-36.0421 717.975,-43.9654 724.451,-46.6223\"/>\n",
       "</g>\n",
       "<!-- 544 -->\n",
       "<g id=\"node23\" class=\"node\"><title>544</title>\n",
       "<path fill=\"#c0c0c0\" stroke=\"black\" d=\"M824,-36C824,-36 794,-36 794,-36 788,-36 782,-30 782,-24 782,-24 782,-12 782,-12 782,-6 788,-0 794,-0 794,-0 824,-0 824,-0 830,-0 836,-6 836,-12 836,-12 836,-24 836,-24 836,-30 830,-36 824,-36\"/>\n",
       "<text text-anchor=\"middle\" x=\"809\" y=\"-14.3\" font-family=\"Helvetica,sans-Serif\" font-size=\"14.00\">(...)</text>\n",
       "</g>\n",
       "<!-- 543&#45;&gt;544 -->\n",
       "<g id=\"edge22\" class=\"edge\"><title>543&#45;&gt;544</title>\n",
       "<path fill=\"none\" stroke=\"black\" d=\"M822.061,-95.4074C819.265,-79.0496 816.115,-60.6243 813.61,-45.9663\"/>\n",
       "<polygon fill=\"black\" stroke=\"black\" points=\"817.048,-45.3094 811.913,-36.0421 810.148,-46.4889 817.048,-45.3094\"/>\n",
       "</g>\n",
       "<!-- 545 -->\n",
       "<g id=\"node24\" class=\"node\"><title>545</title>\n",
       "<path fill=\"#c0c0c0\" stroke=\"black\" d=\"M896,-36C896,-36 866,-36 866,-36 860,-36 854,-30 854,-24 854,-24 854,-12 854,-12 854,-6 860,-0 866,-0 866,-0 896,-0 896,-0 902,-0 908,-6 908,-12 908,-12 908,-24 908,-24 908,-30 902,-36 896,-36\"/>\n",
       "<text text-anchor=\"middle\" x=\"881\" y=\"-14.3\" font-family=\"Helvetica,sans-Serif\" font-size=\"14.00\">(...)</text>\n",
       "</g>\n",
       "<!-- 543&#45;&gt;545 -->\n",
       "<g id=\"edge23\" class=\"edge\"><title>543&#45;&gt;545</title>\n",
       "<path fill=\"none\" stroke=\"black\" d=\"M847.041,-95.4074C854.382,-78.8907 862.659,-60.2664 869.204,-45.5404\"/>\n",
       "<polygon fill=\"black\" stroke=\"black\" points=\"872.563,-46.6018 873.426,-36.0421 866.166,-43.7588 872.563,-46.6018\"/>\n",
       "</g>\n",
       "<!-- 547 -->\n",
       "<g id=\"node26\" class=\"node\"><title>547</title>\n",
       "<path fill=\"#e58139\" fill-opacity=\"0.807843\" stroke=\"black\" d=\"M1032.5,-178.5C1032.5,-178.5 919.5,-178.5 919.5,-178.5 913.5,-178.5 907.5,-172.5 907.5,-166.5 907.5,-166.5 907.5,-107.5 907.5,-107.5 907.5,-101.5 913.5,-95.5 919.5,-95.5 919.5,-95.5 1032.5,-95.5 1032.5,-95.5 1038.5,-95.5 1044.5,-101.5 1044.5,-107.5 1044.5,-107.5 1044.5,-166.5 1044.5,-166.5 1044.5,-172.5 1038.5,-178.5 1032.5,-178.5\"/>\n",
       "<text text-anchor=\"middle\" x=\"976\" y=\"-163.3\" font-family=\"Helvetica,sans-Serif\" font-size=\"14.00\">node #547</text>\n",
       "<text text-anchor=\"middle\" x=\"976\" y=\"-148.3\" font-family=\"Helvetica,sans-Serif\" font-size=\"14.00\">fixed acidity &lt;= 7.05</text>\n",
       "<text text-anchor=\"middle\" x=\"976\" y=\"-133.3\" font-family=\"Helvetica,sans-Serif\" font-size=\"14.00\">gini = 0.269</text>\n",
       "<text text-anchor=\"middle\" x=\"976\" y=\"-118.3\" font-family=\"Helvetica,sans-Serif\" font-size=\"14.00\">samples = 632</text>\n",
       "<text text-anchor=\"middle\" x=\"976\" y=\"-103.3\" font-family=\"Helvetica,sans-Serif\" font-size=\"14.00\">value = [531, 101]</text>\n",
       "</g>\n",
       "<!-- 546&#45;&gt;547 -->\n",
       "<g id=\"edge25\" class=\"edge\"><title>546&#45;&gt;547</title>\n",
       "<path fill=\"none\" stroke=\"black\" d=\"M976,-214.407C976,-206.149 976,-197.364 976,-188.802\"/>\n",
       "<polygon fill=\"black\" stroke=\"black\" points=\"979.5,-188.521 976,-178.521 972.5,-188.521 979.5,-188.521\"/>\n",
       "</g>\n",
       "<!-- 740 -->\n",
       "<g id=\"node29\" class=\"node\"><title>740</title>\n",
       "<path fill=\"#e58139\" fill-opacity=\"0.984314\" stroke=\"black\" d=\"M1187.5,-178.5C1187.5,-178.5 1074.5,-178.5 1074.5,-178.5 1068.5,-178.5 1062.5,-172.5 1062.5,-166.5 1062.5,-166.5 1062.5,-107.5 1062.5,-107.5 1062.5,-101.5 1068.5,-95.5 1074.5,-95.5 1074.5,-95.5 1187.5,-95.5 1187.5,-95.5 1193.5,-95.5 1199.5,-101.5 1199.5,-107.5 1199.5,-107.5 1199.5,-166.5 1199.5,-166.5 1199.5,-172.5 1193.5,-178.5 1187.5,-178.5\"/>\n",
       "<text text-anchor=\"middle\" x=\"1131\" y=\"-163.3\" font-family=\"Helvetica,sans-Serif\" font-size=\"14.00\">node #740</text>\n",
       "<text text-anchor=\"middle\" x=\"1131\" y=\"-148.3\" font-family=\"Helvetica,sans-Serif\" font-size=\"14.00\">fixed acidity &lt;= 8.25</text>\n",
       "<text text-anchor=\"middle\" x=\"1131\" y=\"-133.3\" font-family=\"Helvetica,sans-Serif\" font-size=\"14.00\">gini = 0.027</text>\n",
       "<text text-anchor=\"middle\" x=\"1131\" y=\"-118.3\" font-family=\"Helvetica,sans-Serif\" font-size=\"14.00\">samples = 361</text>\n",
       "<text text-anchor=\"middle\" x=\"1131\" y=\"-103.3\" font-family=\"Helvetica,sans-Serif\" font-size=\"14.00\">value = [356, 5]</text>\n",
       "</g>\n",
       "<!-- 546&#45;&gt;740 -->\n",
       "<g id=\"edge28\" class=\"edge\"><title>546&#45;&gt;740</title>\n",
       "<path fill=\"none\" stroke=\"black\" d=\"M1029.78,-214.407C1042.52,-204.788 1056.21,-194.453 1069.28,-184.59\"/>\n",
       "<polygon fill=\"black\" stroke=\"black\" points=\"1071.45,-187.339 1077.32,-178.521 1067.23,-181.752 1071.45,-187.339\"/>\n",
       "</g>\n",
       "<!-- 548 -->\n",
       "<g id=\"node27\" class=\"node\"><title>548</title>\n",
       "<path fill=\"#c0c0c0\" stroke=\"black\" d=\"M972,-36C972,-36 942,-36 942,-36 936,-36 930,-30 930,-24 930,-24 930,-12 930,-12 930,-6 936,-0 942,-0 942,-0 972,-0 972,-0 978,-0 984,-6 984,-12 984,-12 984,-24 984,-24 984,-30 978,-36 972,-36\"/>\n",
       "<text text-anchor=\"middle\" x=\"957\" y=\"-14.3\" font-family=\"Helvetica,sans-Serif\" font-size=\"14.00\">(...)</text>\n",
       "</g>\n",
       "<!-- 547&#45;&gt;548 -->\n",
       "<g id=\"edge26\" class=\"edge\"><title>547&#45;&gt;548</title>\n",
       "<path fill=\"none\" stroke=\"black\" d=\"M969.408,-95.4074C966.752,-79.0496 963.76,-60.6243 961.379,-45.9663\"/>\n",
       "<polygon fill=\"black\" stroke=\"black\" points=\"964.825,-45.3518 959.768,-36.0421 957.916,-46.4739 964.825,-45.3518\"/>\n",
       "</g>\n",
       "<!-- 651 -->\n",
       "<g id=\"node28\" class=\"node\"><title>651</title>\n",
       "<path fill=\"#c0c0c0\" stroke=\"black\" d=\"M1044,-36C1044,-36 1014,-36 1014,-36 1008,-36 1002,-30 1002,-24 1002,-24 1002,-12 1002,-12 1002,-6 1008,-0 1014,-0 1014,-0 1044,-0 1044,-0 1050,-0 1056,-6 1056,-12 1056,-12 1056,-24 1056,-24 1056,-30 1050,-36 1044,-36\"/>\n",
       "<text text-anchor=\"middle\" x=\"1029\" y=\"-14.3\" font-family=\"Helvetica,sans-Serif\" font-size=\"14.00\">(...)</text>\n",
       "</g>\n",
       "<!-- 547&#45;&gt;651 -->\n",
       "<g id=\"edge27\" class=\"edge\"><title>547&#45;&gt;651</title>\n",
       "<path fill=\"none\" stroke=\"black\" d=\"M994.388,-95.4074C1001.87,-78.8907 1010.31,-60.2664 1016.98,-45.5404\"/>\n",
       "<polygon fill=\"black\" stroke=\"black\" points=\"1020.34,-46.5954 1021.28,-36.0421 1013.97,-43.7069 1020.34,-46.5954\"/>\n",
       "</g>\n",
       "<!-- 741 -->\n",
       "<g id=\"node30\" class=\"node\"><title>741</title>\n",
       "<path fill=\"#c0c0c0\" stroke=\"black\" d=\"M1123,-36C1123,-36 1093,-36 1093,-36 1087,-36 1081,-30 1081,-24 1081,-24 1081,-12 1081,-12 1081,-6 1087,-0 1093,-0 1093,-0 1123,-0 1123,-0 1129,-0 1135,-6 1135,-12 1135,-12 1135,-24 1135,-24 1135,-30 1129,-36 1123,-36\"/>\n",
       "<text text-anchor=\"middle\" x=\"1108\" y=\"-14.3\" font-family=\"Helvetica,sans-Serif\" font-size=\"14.00\">(...)</text>\n",
       "</g>\n",
       "<!-- 740&#45;&gt;741 -->\n",
       "<g id=\"edge29\" class=\"edge\"><title>740&#45;&gt;741</title>\n",
       "<path fill=\"none\" stroke=\"black\" d=\"M1123.02,-95.4074C1119.8,-79.0496 1116.18,-60.6243 1113.3,-45.9663\"/>\n",
       "<polygon fill=\"black\" stroke=\"black\" points=\"1116.71,-45.1792 1111.35,-36.0421 1109.84,-46.5295 1116.71,-45.1792\"/>\n",
       "</g>\n",
       "<!-- 754 -->\n",
       "<g id=\"node31\" class=\"node\"><title>754</title>\n",
       "<path fill=\"#c0c0c0\" stroke=\"black\" d=\"M1195,-36C1195,-36 1165,-36 1165,-36 1159,-36 1153,-30 1153,-24 1153,-24 1153,-12 1153,-12 1153,-6 1159,-0 1165,-0 1165,-0 1195,-0 1195,-0 1201,-0 1207,-6 1207,-12 1207,-12 1207,-24 1207,-24 1207,-30 1201,-36 1195,-36\"/>\n",
       "<text text-anchor=\"middle\" x=\"1180\" y=\"-14.3\" font-family=\"Helvetica,sans-Serif\" font-size=\"14.00\">(...)</text>\n",
       "</g>\n",
       "<!-- 740&#45;&gt;754 -->\n",
       "<g id=\"edge30\" class=\"edge\"><title>740&#45;&gt;754</title>\n",
       "<path fill=\"none\" stroke=\"black\" d=\"M1148,-95.4074C1154.92,-78.8907 1162.72,-60.2664 1168.88,-45.5404\"/>\n",
       "<polygon fill=\"black\" stroke=\"black\" points=\"1172.23,-46.618 1172.86,-36.0421 1165.77,-43.9139 1172.23,-46.618\"/>\n",
       "</g>\n",
       "</g>\n",
       "</svg>\n"
      ],
      "text/plain": [
       "<graphviz.files.Source at 0x7f59d685e630>"
      ]
     },
     "execution_count": 17,
     "metadata": {},
     "output_type": "execute_result"
    }
   ],
   "source": [
    "dtc_complex = DecisionTreeClassifier()\n",
    "dtc_complex.fit(X_train, y_train)\n",
    "import graphviz\n",
    "import pydot \n",
    "from sklearn.externals.six import StringIO  \n",
    "from sklearn.tree import export_graphviz\n",
    "dot_data = export_graphviz(dtc_complex, feature_names =X.columns[:], leaves_parallel = True,\n",
    "                           node_ids = True, filled=True, rounded=True,out_file=None, \n",
    "                           max_depth = 3)\n",
    "graphviz.Source(dot_data) "
   ]
  },
  {
   "cell_type": "markdown",
   "metadata": {},
   "source": [
    "## Advantages and Disadvantages \n",
    "\n",
    "We have seen that Decision Trees algorithms have several advantages. \n",
    "\n",
    "1. Decision Trees are easy to explain as they result in a set of simple decision rules.\n",
    "2. It follows the same approach as humans generally follow while making decisions.\n",
    "3. Interpretation of a Decision Tree model can be simplified by its visualizations.\n",
    "4. Unlike several other alogrithms DT can handle huge data sets with mixed predictors.\n",
    "5. Can easily ignore the redundant variables and help in selecting best features.\n",
    "6. Handle missing data elegantly.\n",
    "\n",
    "These are definitely huge positives especially while working in commerical environment where not all the stake holders are either interested or capable of understanding complex modeling approaches. But decision trees have some very prominent disadvantages too:\n",
    "\n",
    "Disadvantages:\n",
    "\n",
    "1. Very high probability of overfitting as noticed in above plots.\n",
    "2. Generally, DTs have lower prediction accuracy compared to other machine learning algorithms.\n",
    "3. Can be unstable because small variations in datasets can result in completely different trees, but ensemble of DTs can help here.\n",
    "4. Calculations can become complex when there are many class labels. \n",
    "   - You can try to check this with a simple change in above tutorial, just do not use the function \"Taste\".\n",
    "5. For imbalanced classes, DTs can be biased towards dominating classes. So, dataset should be balanced prior to train the DT model. \n",
    "   - You can check this by yourself, just set the quality for pure class to be more than 7 and redo the tutorial."
   ]
  },
  {
   "cell_type": "markdown",
   "metadata": {
    "collapsed": true
   },
   "source": [
    "## Enhancing Decision Trees\n",
    "\n",
    "The plain vanila DT learners are simple but often not very useful in real life situations. Several variations of DTs have been developed to overcome the disadvantages and achieve robust and powerful classification algorithms. This simple algorithm provides a base for several ensemble methods like bagging, random forests and boosting that we will discuss in separate tutorial."
   ]
  }
 ],
 "metadata": {
  "kernelspec": {
   "display_name": "Python 3",
   "language": "python",
   "name": "python3"
  },
  "language_info": {
   "codemirror_mode": {
    "name": "ipython",
    "version": 3
   },
   "file_extension": ".py",
   "mimetype": "text/x-python",
   "name": "python",
   "nbconvert_exporter": "python",
   "pygments_lexer": "ipython3",
   "version": "3.6.3"
  }
 },
 "nbformat": 4,
 "nbformat_minor": 1
}
